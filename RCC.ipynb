{
 "cells": [
  {
   "cell_type": "code",
   "execution_count": 1,
   "id": "78ed2fb9-2ab1-4a0b-becb-79b21fd6ef9e",
   "metadata": {},
   "outputs": [
    {
     "name": "stdout",
     "output_type": "stream",
     "text": [
      "Requirement already satisfied: pip in /home/usrp-gnu/anaconda3/lib/python3.12/site-packages (24.2)\n"
     ]
    }
   ],
   "source": [
    "!pip install --upgrade pip"
   ]
  },
  {
   "cell_type": "code",
   "execution_count": 2,
   "id": "abf53919-ce70-42c9-a741-14db52099951",
   "metadata": {},
   "outputs": [
    {
     "name": "stderr",
     "output_type": "stream",
     "text": [
      "0.00s - Debugger warning: It seems that frozen modules are being used, which may\n",
      "0.00s - make the debugger miss breakpoints. Please pass -Xfrozen_modules=off\n",
      "0.00s - to python to disable frozen modules.\n",
      "0.00s - Note: Debugging will proceed. Set PYDEVD_DISABLE_FILE_VALIDATION=1 to disable this validation.\n"
     ]
    },
    {
     "name": "stdout",
     "output_type": "stream",
     "text": [
      "Installed kernelspec .venv_hls4ml in /home/usrp-gnu/.local/share/jupyter/kernels/.venv_hls4ml\n"
     ]
    }
   ],
   "source": [
    "%%bash\n",
    "ipython kernel install --user --name=.venv_hls4ml"
   ]
  },
  {
   "cell_type": "code",
   "execution_count": 3,
   "id": "49f2051a-562f-4bd8-9499-1cdcadf7090f",
   "metadata": {},
   "outputs": [
    {
     "name": "stdout",
     "output_type": "stream",
     "text": [
      "Looking in indexes: https://download.pytorch.org/whl/cpu\n",
      "Requirement already satisfied: torch in /home/usrp-gnu/anaconda3/lib/python3.12/site-packages (2.4.1+cpu)\n",
      "Requirement already satisfied: torchvision in /home/usrp-gnu/anaconda3/lib/python3.12/site-packages (0.19.1+cpu)\n",
      "Requirement already satisfied: torchaudio in /home/usrp-gnu/anaconda3/lib/python3.12/site-packages (2.4.1+cpu)\n",
      "Requirement already satisfied: filelock in /home/usrp-gnu/anaconda3/lib/python3.12/site-packages (from torch) (3.13.1)\n",
      "Requirement already satisfied: typing-extensions>=4.8.0 in /home/usrp-gnu/anaconda3/lib/python3.12/site-packages (from torch) (4.11.0)\n",
      "Requirement already satisfied: sympy in /home/usrp-gnu/anaconda3/lib/python3.12/site-packages (from torch) (1.12)\n",
      "Requirement already satisfied: networkx in /home/usrp-gnu/anaconda3/lib/python3.12/site-packages (from torch) (3.2.1)\n",
      "Requirement already satisfied: jinja2 in /home/usrp-gnu/anaconda3/lib/python3.12/site-packages (from torch) (3.1.4)\n",
      "Requirement already satisfied: fsspec in /home/usrp-gnu/anaconda3/lib/python3.12/site-packages (from torch) (2024.3.1)\n",
      "Requirement already satisfied: setuptools in /home/usrp-gnu/anaconda3/lib/python3.12/site-packages (from torch) (69.5.1)\n",
      "Requirement already satisfied: numpy in /home/usrp-gnu/anaconda3/lib/python3.12/site-packages (from torchvision) (1.26.4)\n",
      "Requirement already satisfied: pillow!=8.3.*,>=5.3.0 in /home/usrp-gnu/anaconda3/lib/python3.12/site-packages (from torchvision) (10.3.0)\n",
      "Requirement already satisfied: MarkupSafe>=2.0 in /home/usrp-gnu/anaconda3/lib/python3.12/site-packages (from jinja2->torch) (2.1.3)\n",
      "Requirement already satisfied: mpmath>=0.19 in /home/usrp-gnu/anaconda3/lib/python3.12/site-packages (from sympy->torch) (1.3.0)\n"
     ]
    }
   ],
   "source": [
    "!pip3 install torch torchvision torchaudio --index-url https://download.pytorch.org/whl/cpu"
   ]
  },
  {
   "cell_type": "code",
   "execution_count": 4,
   "id": "bbc014ff-f4cb-4bdf-8298-1bc1210d572d",
   "metadata": {},
   "outputs": [
    {
     "name": "stdout",
     "output_type": "stream",
     "text": [
      "Requirement already satisfied: hls4ml[profiling] in /home/usrp-gnu/anaconda3/lib/python3.12/site-packages (0.8.1)\n",
      "Requirement already satisfied: calmjs.parse in /home/usrp-gnu/anaconda3/lib/python3.12/site-packages (from hls4ml[profiling]) (1.3.1)\n",
      "Requirement already satisfied: h5py in /home/usrp-gnu/anaconda3/lib/python3.12/site-packages (from hls4ml[profiling]) (3.11.0)\n",
      "Requirement already satisfied: numpy in /home/usrp-gnu/anaconda3/lib/python3.12/site-packages (from hls4ml[profiling]) (1.26.4)\n",
      "Requirement already satisfied: onnx>=1.4.0 in /home/usrp-gnu/anaconda3/lib/python3.12/site-packages (from hls4ml[profiling]) (1.16.2)\n",
      "Requirement already satisfied: pydigitalwavetools==1.1 in /home/usrp-gnu/anaconda3/lib/python3.12/site-packages (from hls4ml[profiling]) (1.1)\n",
      "Requirement already satisfied: pyyaml in /home/usrp-gnu/anaconda3/lib/python3.12/site-packages (from hls4ml[profiling]) (6.0.1)\n",
      "Requirement already satisfied: qkeras in /home/usrp-gnu/anaconda3/lib/python3.12/site-packages (from hls4ml[profiling]) (0.9.0)\n",
      "Requirement already satisfied: tabulate in /home/usrp-gnu/anaconda3/lib/python3.12/site-packages (from hls4ml[profiling]) (0.9.0)\n",
      "Requirement already satisfied: tensorflow in /home/usrp-gnu/anaconda3/lib/python3.12/site-packages (from hls4ml[profiling]) (2.17.0)\n",
      "Requirement already satisfied: matplotlib in /home/usrp-gnu/anaconda3/lib/python3.12/site-packages (from hls4ml[profiling]) (3.8.4)\n",
      "Requirement already satisfied: pandas in /home/usrp-gnu/anaconda3/lib/python3.12/site-packages (from hls4ml[profiling]) (2.2.2)\n",
      "Requirement already satisfied: seaborn in /home/usrp-gnu/anaconda3/lib/python3.12/site-packages (from hls4ml[profiling]) (0.13.2)\n",
      "Requirement already satisfied: protobuf>=3.20.2 in /home/usrp-gnu/anaconda3/lib/python3.12/site-packages (from onnx>=1.4.0->hls4ml[profiling]) (3.20.3)\n",
      "Requirement already satisfied: setuptools in /home/usrp-gnu/anaconda3/lib/python3.12/site-packages (from calmjs.parse->hls4ml[profiling]) (69.5.1)\n",
      "Requirement already satisfied: ply>=3.6 in /home/usrp-gnu/anaconda3/lib/python3.12/site-packages (from calmjs.parse->hls4ml[profiling]) (3.11)\n",
      "Requirement already satisfied: contourpy>=1.0.1 in /home/usrp-gnu/anaconda3/lib/python3.12/site-packages (from matplotlib->hls4ml[profiling]) (1.2.0)\n",
      "Requirement already satisfied: cycler>=0.10 in /home/usrp-gnu/anaconda3/lib/python3.12/site-packages (from matplotlib->hls4ml[profiling]) (0.11.0)\n",
      "Requirement already satisfied: fonttools>=4.22.0 in /home/usrp-gnu/anaconda3/lib/python3.12/site-packages (from matplotlib->hls4ml[profiling]) (4.51.0)\n",
      "Requirement already satisfied: kiwisolver>=1.3.1 in /home/usrp-gnu/anaconda3/lib/python3.12/site-packages (from matplotlib->hls4ml[profiling]) (1.4.4)\n",
      "Requirement already satisfied: packaging>=20.0 in /home/usrp-gnu/anaconda3/lib/python3.12/site-packages (from matplotlib->hls4ml[profiling]) (23.2)\n",
      "Requirement already satisfied: pillow>=8 in /home/usrp-gnu/anaconda3/lib/python3.12/site-packages (from matplotlib->hls4ml[profiling]) (10.3.0)\n",
      "Requirement already satisfied: pyparsing>=2.3.1 in /home/usrp-gnu/anaconda3/lib/python3.12/site-packages (from matplotlib->hls4ml[profiling]) (3.0.9)\n",
      "Requirement already satisfied: python-dateutil>=2.7 in /home/usrp-gnu/anaconda3/lib/python3.12/site-packages (from matplotlib->hls4ml[profiling]) (2.9.0.post0)\n",
      "Requirement already satisfied: pytz>=2020.1 in /home/usrp-gnu/anaconda3/lib/python3.12/site-packages (from pandas->hls4ml[profiling]) (2024.1)\n",
      "Requirement already satisfied: tzdata>=2022.7 in /home/usrp-gnu/anaconda3/lib/python3.12/site-packages (from pandas->hls4ml[profiling]) (2023.3)\n",
      "Requirement already satisfied: scipy>=1.4.1 in /home/usrp-gnu/anaconda3/lib/python3.12/site-packages (from qkeras->hls4ml[profiling]) (1.13.1)\n",
      "Requirement already satisfied: pyparser in /home/usrp-gnu/anaconda3/lib/python3.12/site-packages (from qkeras->hls4ml[profiling]) (1.0)\n",
      "Requirement already satisfied: tensorflow-model-optimization>=0.2.1 in /home/usrp-gnu/anaconda3/lib/python3.12/site-packages (from qkeras->hls4ml[profiling]) (0.8.0)\n",
      "Requirement already satisfied: networkx>=2.1 in /home/usrp-gnu/anaconda3/lib/python3.12/site-packages (from qkeras->hls4ml[profiling]) (3.2.1)\n",
      "Requirement already satisfied: keras-tuner>=1.0.1 in /home/usrp-gnu/anaconda3/lib/python3.12/site-packages (from qkeras->hls4ml[profiling]) (1.4.7)\n",
      "Requirement already satisfied: scikit-learn>=0.23.1 in /home/usrp-gnu/anaconda3/lib/python3.12/site-packages (from qkeras->hls4ml[profiling]) (1.4.2)\n",
      "Requirement already satisfied: tqdm>=4.48.0 in /home/usrp-gnu/anaconda3/lib/python3.12/site-packages (from qkeras->hls4ml[profiling]) (4.66.4)\n",
      "Requirement already satisfied: absl-py>=1.0.0 in /home/usrp-gnu/anaconda3/lib/python3.12/site-packages (from tensorflow->hls4ml[profiling]) (1.4.0)\n",
      "Requirement already satisfied: astunparse>=1.6.0 in /home/usrp-gnu/anaconda3/lib/python3.12/site-packages (from tensorflow->hls4ml[profiling]) (1.6.3)\n",
      "Requirement already satisfied: flatbuffers>=24.3.25 in /home/usrp-gnu/anaconda3/lib/python3.12/site-packages (from tensorflow->hls4ml[profiling]) (24.3.25)\n",
      "Requirement already satisfied: gast!=0.5.0,!=0.5.1,!=0.5.2,>=0.2.1 in /home/usrp-gnu/anaconda3/lib/python3.12/site-packages (from tensorflow->hls4ml[profiling]) (0.6.0)\n",
      "Requirement already satisfied: google-pasta>=0.1.1 in /home/usrp-gnu/anaconda3/lib/python3.12/site-packages (from tensorflow->hls4ml[profiling]) (0.2.0)\n",
      "Requirement already satisfied: libclang>=13.0.0 in /home/usrp-gnu/anaconda3/lib/python3.12/site-packages (from tensorflow->hls4ml[profiling]) (18.1.1)\n",
      "Requirement already satisfied: ml-dtypes<0.5.0,>=0.3.1 in /home/usrp-gnu/anaconda3/lib/python3.12/site-packages (from tensorflow->hls4ml[profiling]) (0.4.0)\n",
      "Requirement already satisfied: opt-einsum>=2.3.2 in /home/usrp-gnu/anaconda3/lib/python3.12/site-packages (from tensorflow->hls4ml[profiling]) (3.3.0)\n",
      "Requirement already satisfied: requests<3,>=2.21.0 in /home/usrp-gnu/anaconda3/lib/python3.12/site-packages (from tensorflow->hls4ml[profiling]) (2.32.2)\n",
      "Requirement already satisfied: six>=1.12.0 in /home/usrp-gnu/anaconda3/lib/python3.12/site-packages (from tensorflow->hls4ml[profiling]) (1.16.0)\n",
      "Requirement already satisfied: termcolor>=1.1.0 in /home/usrp-gnu/anaconda3/lib/python3.12/site-packages (from tensorflow->hls4ml[profiling]) (2.4.0)\n",
      "Requirement already satisfied: typing-extensions>=3.6.6 in /home/usrp-gnu/anaconda3/lib/python3.12/site-packages (from tensorflow->hls4ml[profiling]) (4.11.0)\n",
      "Requirement already satisfied: wrapt>=1.11.0 in /home/usrp-gnu/anaconda3/lib/python3.12/site-packages (from tensorflow->hls4ml[profiling]) (1.14.1)\n",
      "Requirement already satisfied: grpcio<2.0,>=1.24.3 in /home/usrp-gnu/anaconda3/lib/python3.12/site-packages (from tensorflow->hls4ml[profiling]) (1.66.1)\n",
      "Requirement already satisfied: tensorboard<2.18,>=2.17 in /home/usrp-gnu/anaconda3/lib/python3.12/site-packages (from tensorflow->hls4ml[profiling]) (2.17.1)\n",
      "Requirement already satisfied: keras>=3.2.0 in /home/usrp-gnu/anaconda3/lib/python3.12/site-packages (from tensorflow->hls4ml[profiling]) (3.5.0)\n",
      "Requirement already satisfied: wheel<1.0,>=0.23.0 in /home/usrp-gnu/anaconda3/lib/python3.12/site-packages (from astunparse>=1.6.0->tensorflow->hls4ml[profiling]) (0.43.0)\n",
      "Requirement already satisfied: rich in /home/usrp-gnu/anaconda3/lib/python3.12/site-packages (from keras>=3.2.0->tensorflow->hls4ml[profiling]) (13.3.5)\n",
      "Requirement already satisfied: namex in /home/usrp-gnu/anaconda3/lib/python3.12/site-packages (from keras>=3.2.0->tensorflow->hls4ml[profiling]) (0.0.8)\n",
      "Requirement already satisfied: optree in /home/usrp-gnu/anaconda3/lib/python3.12/site-packages (from keras>=3.2.0->tensorflow->hls4ml[profiling]) (0.12.1)\n",
      "Requirement already satisfied: kt-legacy in /home/usrp-gnu/anaconda3/lib/python3.12/site-packages (from keras-tuner>=1.0.1->qkeras->hls4ml[profiling]) (1.0.5)\n",
      "Requirement already satisfied: charset-normalizer<4,>=2 in /home/usrp-gnu/anaconda3/lib/python3.12/site-packages (from requests<3,>=2.21.0->tensorflow->hls4ml[profiling]) (2.0.4)\n",
      "Requirement already satisfied: idna<4,>=2.5 in /home/usrp-gnu/anaconda3/lib/python3.12/site-packages (from requests<3,>=2.21.0->tensorflow->hls4ml[profiling]) (3.7)\n",
      "Requirement already satisfied: urllib3<3,>=1.21.1 in /home/usrp-gnu/anaconda3/lib/python3.12/site-packages (from requests<3,>=2.21.0->tensorflow->hls4ml[profiling]) (2.2.2)\n",
      "Requirement already satisfied: certifi>=2017.4.17 in /home/usrp-gnu/anaconda3/lib/python3.12/site-packages (from requests<3,>=2.21.0->tensorflow->hls4ml[profiling]) (2024.6.2)\n",
      "Requirement already satisfied: joblib>=1.2.0 in /home/usrp-gnu/anaconda3/lib/python3.12/site-packages (from scikit-learn>=0.23.1->qkeras->hls4ml[profiling]) (1.4.2)\n",
      "Requirement already satisfied: threadpoolctl>=2.0.0 in /home/usrp-gnu/anaconda3/lib/python3.12/site-packages (from scikit-learn>=0.23.1->qkeras->hls4ml[profiling]) (2.2.0)\n",
      "Requirement already satisfied: markdown>=2.6.8 in /home/usrp-gnu/anaconda3/lib/python3.12/site-packages (from tensorboard<2.18,>=2.17->tensorflow->hls4ml[profiling]) (3.4.1)\n",
      "Requirement already satisfied: tensorboard-data-server<0.8.0,>=0.7.0 in /home/usrp-gnu/anaconda3/lib/python3.12/site-packages (from tensorboard<2.18,>=2.17->tensorflow->hls4ml[profiling]) (0.7.2)\n",
      "Requirement already satisfied: werkzeug>=1.0.1 in /home/usrp-gnu/anaconda3/lib/python3.12/site-packages (from tensorboard<2.18,>=2.17->tensorflow->hls4ml[profiling]) (3.0.3)\n",
      "Requirement already satisfied: dm-tree~=0.1.1 in /home/usrp-gnu/anaconda3/lib/python3.12/site-packages (from tensorflow-model-optimization>=0.2.1->qkeras->hls4ml[profiling]) (0.1.8)\n",
      "Requirement already satisfied: parse==1.6.5 in /home/usrp-gnu/anaconda3/lib/python3.12/site-packages (from pyparser->qkeras->hls4ml[profiling]) (1.6.5)\n",
      "Requirement already satisfied: MarkupSafe>=2.1.1 in /home/usrp-gnu/anaconda3/lib/python3.12/site-packages (from werkzeug>=1.0.1->tensorboard<2.18,>=2.17->tensorflow->hls4ml[profiling]) (2.1.3)\n",
      "Requirement already satisfied: markdown-it-py<3.0.0,>=2.2.0 in /home/usrp-gnu/anaconda3/lib/python3.12/site-packages (from rich->keras>=3.2.0->tensorflow->hls4ml[profiling]) (2.2.0)\n",
      "Requirement already satisfied: pygments<3.0.0,>=2.13.0 in /home/usrp-gnu/anaconda3/lib/python3.12/site-packages (from rich->keras>=3.2.0->tensorflow->hls4ml[profiling]) (2.15.1)\n",
      "Requirement already satisfied: mdurl~=0.1 in /home/usrp-gnu/anaconda3/lib/python3.12/site-packages (from markdown-it-py<3.0.0,>=2.2.0->rich->keras>=3.2.0->tensorflow->hls4ml[profiling]) (0.1.0)\n"
     ]
    }
   ],
   "source": [
    "!pip install hls4ml[profiling]"
   ]
  },
  {
   "cell_type": "code",
   "execution_count": 5,
   "id": "097e2394-8b08-453a-a190-3435bd7cc21f",
   "metadata": {},
   "outputs": [
    {
     "name": "stdout",
     "output_type": "stream",
     "text": [
      "Requirement already satisfied: scikit-learn in /home/usrp-gnu/anaconda3/lib/python3.12/site-packages (1.4.2)\n",
      "Requirement already satisfied: pydot in /home/usrp-gnu/anaconda3/lib/python3.12/site-packages (3.0.1)\n",
      "Requirement already satisfied: graphviz in /home/usrp-gnu/anaconda3/lib/python3.12/site-packages (0.20.3)\n",
      "Requirement already satisfied: numpy>=1.19.5 in /home/usrp-gnu/anaconda3/lib/python3.12/site-packages (from scikit-learn) (1.26.4)\n",
      "Requirement already satisfied: scipy>=1.6.0 in /home/usrp-gnu/anaconda3/lib/python3.12/site-packages (from scikit-learn) (1.13.1)\n",
      "Requirement already satisfied: joblib>=1.2.0 in /home/usrp-gnu/anaconda3/lib/python3.12/site-packages (from scikit-learn) (1.4.2)\n",
      "Requirement already satisfied: threadpoolctl>=2.0.0 in /home/usrp-gnu/anaconda3/lib/python3.12/site-packages (from scikit-learn) (2.2.0)\n",
      "Requirement already satisfied: pyparsing>=3.0.9 in /home/usrp-gnu/anaconda3/lib/python3.12/site-packages (from pydot) (3.0.9)\n",
      "Note: you may need to restart the kernel to use updated packages.\n"
     ]
    }
   ],
   "source": [
    "pip install scikit-learn pydot graphviz"
   ]
  },
  {
   "cell_type": "code",
   "execution_count": 6,
   "id": "749e16de-1aa8-49b1-89d1-a948632214b4",
   "metadata": {},
   "outputs": [
    {
     "name": "stderr",
     "output_type": "stream",
     "text": [
      "2024-09-24 17:57:03.417970: I external/local_xla/xla/tsl/cuda/cudart_stub.cc:32] Could not find cuda drivers on your machine, GPU will not be used.\n",
      "2024-09-24 17:57:07.670638: I external/local_xla/xla/tsl/cuda/cudart_stub.cc:32] Could not find cuda drivers on your machine, GPU will not be used.\n",
      "2024-09-24 17:57:09.602928: E external/local_xla/xla/stream_executor/cuda/cuda_fft.cc:485] Unable to register cuFFT factory: Attempting to register factory for plugin cuFFT when one has already been registered\n",
      "2024-09-24 17:57:10.535368: E external/local_xla/xla/stream_executor/cuda/cuda_dnn.cc:8454] Unable to register cuDNN factory: Attempting to register factory for plugin cuDNN when one has already been registered\n",
      "2024-09-24 17:57:10.682840: E external/local_xla/xla/stream_executor/cuda/cuda_blas.cc:1452] Unable to register cuBLAS factory: Attempting to register factory for plugin cuBLAS when one has already been registered\n",
      "2024-09-24 17:57:12.007365: I tensorflow/core/platform/cpu_feature_guard.cc:210] This TensorFlow binary is optimized to use available CPU instructions in performance-critical operations.\n",
      "To enable the following instructions: AVX2 FMA, in other operations, rebuild TensorFlow with the appropriate compiler flags.\n",
      "2024-09-24 17:57:20.443355: W tensorflow/compiler/tf2tensorrt/utils/py_utils.cc:38] TF-TRT Warning: Could not find TensorRT\n"
     ]
    }
   ],
   "source": [
    "import keras\n",
    "import tensorflow as tf \n",
    "import zipfile\n",
    "import os"
   ]
  },
  {
   "cell_type": "code",
   "execution_count": 7,
   "id": "c49835dd-d21b-467e-80fe-cf2431e0c3a0",
   "metadata": {},
   "outputs": [],
   "source": [
    "from tensorflow.keras.utils import to_categorical\n",
    "from sklearn.datasets import fetch_openml\n",
    "from sklearn.model_selection import train_test_split\n",
    "from sklearn.preprocessing import LabelEncoder, StandardScaler\n",
    "import numpy as np\n",
    "import torch\n",
    "import matplotlib.pyplot as plt\n",
    "from sklearn.metrics import accuracy_score"
   ]
  },
  {
   "cell_type": "code",
   "execution_count": 8,
   "id": "37eb6b3c-98cb-44c0-b5f2-48c5c511d2ce",
   "metadata": {},
   "outputs": [],
   "source": [
    "seed = 0\n",
    "np.random.seed(seed)\n",
    "import tensorflow as tf\n",
    "tf.random.set_seed(seed)"
   ]
  },
  {
   "cell_type": "code",
   "execution_count": 9,
   "id": "ecd25852-983d-4bbb-a7d2-6a4417f043fa",
   "metadata": {},
   "outputs": [],
   "source": [
    "from tensorflow.keras.models import Sequential\n",
    "from tensorflow.keras.layers import Dense, Activation, BatchNormalization\n",
    "from tensorflow.keras.optimizers import Adam\n",
    "from tensorflow.keras.regularizers import l1\n",
    "from tensorflow_model_optimization.python.core.sparsity.keras import pruning_wrapper\n",
    "#from utils.callbacks import all_callbacks"
   ]
  },
  {
   "cell_type": "code",
   "execution_count": 10,
   "id": "c811e70d-58b9-4cfe-a740-69d834c98e54",
   "metadata": {},
   "outputs": [
    {
     "name": "stdout",
     "output_type": "stream",
     "text": [
      "Folder'data' already created. \n"
     ]
    }
   ],
   "source": [
    "if os.path.exists('data'):\n",
    "    print('Folder\\'data\\' already created. ')\n",
    "else:\n",
    "    print('Folder\\'data\\' created.')\n",
    "    os.mkdir('data')"
   ]
  },
  {
   "cell_type": "code",
   "execution_count": 11,
   "id": "b0fcbd72-5b4c-4083-8583-bdc69011bb01",
   "metadata": {},
   "outputs": [
    {
     "name": "stdout",
     "output_type": "stream",
     "text": [
      "2.17.0\n"
     ]
    }
   ],
   "source": [
    "print(tf.__version__)"
   ]
  },
  {
   "cell_type": "code",
   "execution_count": 12,
   "id": "afdbf9c9-4c6c-4e5c-82df-127a7ce710bf",
   "metadata": {},
   "outputs": [
    {
     "name": "stdout",
     "output_type": "stream",
     "text": [
      "Requirement already satisfied: tensorflow-model-optimization in /home/usrp-gnu/anaconda3/lib/python3.12/site-packages (0.8.0)\n",
      "Requirement already satisfied: absl-py~=1.2 in /home/usrp-gnu/anaconda3/lib/python3.12/site-packages (from tensorflow-model-optimization) (1.4.0)\n",
      "Requirement already satisfied: dm-tree~=0.1.1 in /home/usrp-gnu/anaconda3/lib/python3.12/site-packages (from tensorflow-model-optimization) (0.1.8)\n",
      "Requirement already satisfied: numpy~=1.23 in /home/usrp-gnu/anaconda3/lib/python3.12/site-packages (from tensorflow-model-optimization) (1.26.4)\n",
      "Requirement already satisfied: six~=1.14 in /home/usrp-gnu/anaconda3/lib/python3.12/site-packages (from tensorflow-model-optimization) (1.16.0)\n",
      "Note: you may need to restart the kernel to use updated packages.\n"
     ]
    }
   ],
   "source": [
    "pip install tensorflow-model-optimization"
   ]
  },
  {
   "cell_type": "code",
   "execution_count": 13,
   "id": "1f44bcab-3515-41b1-8b16-e714c8df5d05",
   "metadata": {},
   "outputs": [
    {
     "name": "stdout",
     "output_type": "stream",
     "text": [
      "Requirement already satisfied: tensorflow in /home/usrp-gnu/anaconda3/lib/python3.12/site-packages (2.17.0)\n",
      "Requirement already satisfied: tensorflow-model-optimization in /home/usrp-gnu/anaconda3/lib/python3.12/site-packages (0.8.0)\n",
      "Requirement already satisfied: absl-py>=1.0.0 in /home/usrp-gnu/anaconda3/lib/python3.12/site-packages (from tensorflow) (1.4.0)\n",
      "Requirement already satisfied: astunparse>=1.6.0 in /home/usrp-gnu/anaconda3/lib/python3.12/site-packages (from tensorflow) (1.6.3)\n",
      "Requirement already satisfied: flatbuffers>=24.3.25 in /home/usrp-gnu/anaconda3/lib/python3.12/site-packages (from tensorflow) (24.3.25)\n",
      "Requirement already satisfied: gast!=0.5.0,!=0.5.1,!=0.5.2,>=0.2.1 in /home/usrp-gnu/anaconda3/lib/python3.12/site-packages (from tensorflow) (0.6.0)\n",
      "Requirement already satisfied: google-pasta>=0.1.1 in /home/usrp-gnu/anaconda3/lib/python3.12/site-packages (from tensorflow) (0.2.0)\n",
      "Requirement already satisfied: h5py>=3.10.0 in /home/usrp-gnu/anaconda3/lib/python3.12/site-packages (from tensorflow) (3.11.0)\n",
      "Requirement already satisfied: libclang>=13.0.0 in /home/usrp-gnu/anaconda3/lib/python3.12/site-packages (from tensorflow) (18.1.1)\n",
      "Requirement already satisfied: ml-dtypes<0.5.0,>=0.3.1 in /home/usrp-gnu/anaconda3/lib/python3.12/site-packages (from tensorflow) (0.4.0)\n",
      "Requirement already satisfied: opt-einsum>=2.3.2 in /home/usrp-gnu/anaconda3/lib/python3.12/site-packages (from tensorflow) (3.3.0)\n",
      "Requirement already satisfied: packaging in /home/usrp-gnu/anaconda3/lib/python3.12/site-packages (from tensorflow) (23.2)\n",
      "Requirement already satisfied: protobuf!=4.21.0,!=4.21.1,!=4.21.2,!=4.21.3,!=4.21.4,!=4.21.5,<5.0.0dev,>=3.20.3 in /home/usrp-gnu/anaconda3/lib/python3.12/site-packages (from tensorflow) (3.20.3)\n",
      "Requirement already satisfied: requests<3,>=2.21.0 in /home/usrp-gnu/anaconda3/lib/python3.12/site-packages (from tensorflow) (2.32.2)\n",
      "Requirement already satisfied: setuptools in /home/usrp-gnu/anaconda3/lib/python3.12/site-packages (from tensorflow) (69.5.1)\n",
      "Requirement already satisfied: six>=1.12.0 in /home/usrp-gnu/anaconda3/lib/python3.12/site-packages (from tensorflow) (1.16.0)\n",
      "Requirement already satisfied: termcolor>=1.1.0 in /home/usrp-gnu/anaconda3/lib/python3.12/site-packages (from tensorflow) (2.4.0)\n",
      "Requirement already satisfied: typing-extensions>=3.6.6 in /home/usrp-gnu/anaconda3/lib/python3.12/site-packages (from tensorflow) (4.11.0)\n",
      "Requirement already satisfied: wrapt>=1.11.0 in /home/usrp-gnu/anaconda3/lib/python3.12/site-packages (from tensorflow) (1.14.1)\n",
      "Requirement already satisfied: grpcio<2.0,>=1.24.3 in /home/usrp-gnu/anaconda3/lib/python3.12/site-packages (from tensorflow) (1.66.1)\n",
      "Requirement already satisfied: tensorboard<2.18,>=2.17 in /home/usrp-gnu/anaconda3/lib/python3.12/site-packages (from tensorflow) (2.17.1)\n",
      "Requirement already satisfied: keras>=3.2.0 in /home/usrp-gnu/anaconda3/lib/python3.12/site-packages (from tensorflow) (3.5.0)\n",
      "Requirement already satisfied: numpy<2.0.0,>=1.26.0 in /home/usrp-gnu/anaconda3/lib/python3.12/site-packages (from tensorflow) (1.26.4)\n",
      "Requirement already satisfied: dm-tree~=0.1.1 in /home/usrp-gnu/anaconda3/lib/python3.12/site-packages (from tensorflow-model-optimization) (0.1.8)\n",
      "Requirement already satisfied: wheel<1.0,>=0.23.0 in /home/usrp-gnu/anaconda3/lib/python3.12/site-packages (from astunparse>=1.6.0->tensorflow) (0.43.0)\n",
      "Requirement already satisfied: rich in /home/usrp-gnu/anaconda3/lib/python3.12/site-packages (from keras>=3.2.0->tensorflow) (13.3.5)\n",
      "Requirement already satisfied: namex in /home/usrp-gnu/anaconda3/lib/python3.12/site-packages (from keras>=3.2.0->tensorflow) (0.0.8)\n",
      "Requirement already satisfied: optree in /home/usrp-gnu/anaconda3/lib/python3.12/site-packages (from keras>=3.2.0->tensorflow) (0.12.1)\n",
      "Requirement already satisfied: charset-normalizer<4,>=2 in /home/usrp-gnu/anaconda3/lib/python3.12/site-packages (from requests<3,>=2.21.0->tensorflow) (2.0.4)\n",
      "Requirement already satisfied: idna<4,>=2.5 in /home/usrp-gnu/anaconda3/lib/python3.12/site-packages (from requests<3,>=2.21.0->tensorflow) (3.7)\n",
      "Requirement already satisfied: urllib3<3,>=1.21.1 in /home/usrp-gnu/anaconda3/lib/python3.12/site-packages (from requests<3,>=2.21.0->tensorflow) (2.2.2)\n",
      "Requirement already satisfied: certifi>=2017.4.17 in /home/usrp-gnu/anaconda3/lib/python3.12/site-packages (from requests<3,>=2.21.0->tensorflow) (2024.6.2)\n",
      "Requirement already satisfied: markdown>=2.6.8 in /home/usrp-gnu/anaconda3/lib/python3.12/site-packages (from tensorboard<2.18,>=2.17->tensorflow) (3.4.1)\n",
      "Requirement already satisfied: tensorboard-data-server<0.8.0,>=0.7.0 in /home/usrp-gnu/anaconda3/lib/python3.12/site-packages (from tensorboard<2.18,>=2.17->tensorflow) (0.7.2)\n",
      "Requirement already satisfied: werkzeug>=1.0.1 in /home/usrp-gnu/anaconda3/lib/python3.12/site-packages (from tensorboard<2.18,>=2.17->tensorflow) (3.0.3)\n",
      "Requirement already satisfied: MarkupSafe>=2.1.1 in /home/usrp-gnu/anaconda3/lib/python3.12/site-packages (from werkzeug>=1.0.1->tensorboard<2.18,>=2.17->tensorflow) (2.1.3)\n",
      "Requirement already satisfied: markdown-it-py<3.0.0,>=2.2.0 in /home/usrp-gnu/anaconda3/lib/python3.12/site-packages (from rich->keras>=3.2.0->tensorflow) (2.2.0)\n",
      "Requirement already satisfied: pygments<3.0.0,>=2.13.0 in /home/usrp-gnu/anaconda3/lib/python3.12/site-packages (from rich->keras>=3.2.0->tensorflow) (2.15.1)\n",
      "Requirement already satisfied: mdurl~=0.1 in /home/usrp-gnu/anaconda3/lib/python3.12/site-packages (from markdown-it-py<3.0.0,>=2.2.0->rich->keras>=3.2.0->tensorflow) (0.1.0)\n",
      "Note: you may need to restart the kernel to use updated packages.\n"
     ]
    }
   ],
   "source": [
    "pip install --upgrade tensorflow tensorflow-model-optimization"
   ]
  },
  {
   "cell_type": "code",
   "execution_count": 14,
   "id": "e2e8f127-2e50-4193-863e-dd7260f5e8f9",
   "metadata": {},
   "outputs": [
    {
     "name": "stdout",
     "output_type": "stream",
     "text": [
      "Requirement already satisfied: qkeras in /home/usrp-gnu/anaconda3/lib/python3.12/site-packages (0.9.0)\n",
      "Requirement already satisfied: numpy>=1.16.0 in /home/usrp-gnu/anaconda3/lib/python3.12/site-packages (from qkeras) (1.26.4)\n",
      "Requirement already satisfied: scipy>=1.4.1 in /home/usrp-gnu/anaconda3/lib/python3.12/site-packages (from qkeras) (1.13.1)\n",
      "Requirement already satisfied: pyparser in /home/usrp-gnu/anaconda3/lib/python3.12/site-packages (from qkeras) (1.0)\n",
      "Requirement already satisfied: setuptools>=41.0.0 in /home/usrp-gnu/anaconda3/lib/python3.12/site-packages (from qkeras) (69.5.1)\n",
      "Requirement already satisfied: tensorflow-model-optimization>=0.2.1 in /home/usrp-gnu/anaconda3/lib/python3.12/site-packages (from qkeras) (0.8.0)\n",
      "Requirement already satisfied: networkx>=2.1 in /home/usrp-gnu/anaconda3/lib/python3.12/site-packages (from qkeras) (3.2.1)\n",
      "Requirement already satisfied: keras-tuner>=1.0.1 in /home/usrp-gnu/anaconda3/lib/python3.12/site-packages (from qkeras) (1.4.7)\n",
      "Requirement already satisfied: scikit-learn>=0.23.1 in /home/usrp-gnu/anaconda3/lib/python3.12/site-packages (from qkeras) (1.4.2)\n",
      "Requirement already satisfied: tqdm>=4.48.0 in /home/usrp-gnu/anaconda3/lib/python3.12/site-packages (from qkeras) (4.66.4)\n",
      "Requirement already satisfied: keras in /home/usrp-gnu/anaconda3/lib/python3.12/site-packages (from keras-tuner>=1.0.1->qkeras) (3.5.0)\n",
      "Requirement already satisfied: packaging in /home/usrp-gnu/anaconda3/lib/python3.12/site-packages (from keras-tuner>=1.0.1->qkeras) (23.2)\n",
      "Requirement already satisfied: requests in /home/usrp-gnu/anaconda3/lib/python3.12/site-packages (from keras-tuner>=1.0.1->qkeras) (2.32.2)\n",
      "Requirement already satisfied: kt-legacy in /home/usrp-gnu/anaconda3/lib/python3.12/site-packages (from keras-tuner>=1.0.1->qkeras) (1.0.5)\n",
      "Requirement already satisfied: joblib>=1.2.0 in /home/usrp-gnu/anaconda3/lib/python3.12/site-packages (from scikit-learn>=0.23.1->qkeras) (1.4.2)\n",
      "Requirement already satisfied: threadpoolctl>=2.0.0 in /home/usrp-gnu/anaconda3/lib/python3.12/site-packages (from scikit-learn>=0.23.1->qkeras) (2.2.0)\n",
      "Requirement already satisfied: absl-py~=1.2 in /home/usrp-gnu/anaconda3/lib/python3.12/site-packages (from tensorflow-model-optimization>=0.2.1->qkeras) (1.4.0)\n",
      "Requirement already satisfied: dm-tree~=0.1.1 in /home/usrp-gnu/anaconda3/lib/python3.12/site-packages (from tensorflow-model-optimization>=0.2.1->qkeras) (0.1.8)\n",
      "Requirement already satisfied: six~=1.14 in /home/usrp-gnu/anaconda3/lib/python3.12/site-packages (from tensorflow-model-optimization>=0.2.1->qkeras) (1.16.0)\n",
      "Requirement already satisfied: parse==1.6.5 in /home/usrp-gnu/anaconda3/lib/python3.12/site-packages (from pyparser->qkeras) (1.6.5)\n",
      "Requirement already satisfied: rich in /home/usrp-gnu/anaconda3/lib/python3.12/site-packages (from keras->keras-tuner>=1.0.1->qkeras) (13.3.5)\n",
      "Requirement already satisfied: namex in /home/usrp-gnu/anaconda3/lib/python3.12/site-packages (from keras->keras-tuner>=1.0.1->qkeras) (0.0.8)\n",
      "Requirement already satisfied: h5py in /home/usrp-gnu/anaconda3/lib/python3.12/site-packages (from keras->keras-tuner>=1.0.1->qkeras) (3.11.0)\n",
      "Requirement already satisfied: optree in /home/usrp-gnu/anaconda3/lib/python3.12/site-packages (from keras->keras-tuner>=1.0.1->qkeras) (0.12.1)\n",
      "Requirement already satisfied: ml-dtypes in /home/usrp-gnu/anaconda3/lib/python3.12/site-packages (from keras->keras-tuner>=1.0.1->qkeras) (0.4.0)\n",
      "Requirement already satisfied: charset-normalizer<4,>=2 in /home/usrp-gnu/anaconda3/lib/python3.12/site-packages (from requests->keras-tuner>=1.0.1->qkeras) (2.0.4)\n",
      "Requirement already satisfied: idna<4,>=2.5 in /home/usrp-gnu/anaconda3/lib/python3.12/site-packages (from requests->keras-tuner>=1.0.1->qkeras) (3.7)\n",
      "Requirement already satisfied: urllib3<3,>=1.21.1 in /home/usrp-gnu/anaconda3/lib/python3.12/site-packages (from requests->keras-tuner>=1.0.1->qkeras) (2.2.2)\n",
      "Requirement already satisfied: certifi>=2017.4.17 in /home/usrp-gnu/anaconda3/lib/python3.12/site-packages (from requests->keras-tuner>=1.0.1->qkeras) (2024.6.2)\n",
      "Requirement already satisfied: typing-extensions>=4.5.0 in /home/usrp-gnu/anaconda3/lib/python3.12/site-packages (from optree->keras->keras-tuner>=1.0.1->qkeras) (4.11.0)\n",
      "Requirement already satisfied: markdown-it-py<3.0.0,>=2.2.0 in /home/usrp-gnu/anaconda3/lib/python3.12/site-packages (from rich->keras->keras-tuner>=1.0.1->qkeras) (2.2.0)\n",
      "Requirement already satisfied: pygments<3.0.0,>=2.13.0 in /home/usrp-gnu/anaconda3/lib/python3.12/site-packages (from rich->keras->keras-tuner>=1.0.1->qkeras) (2.15.1)\n",
      "Requirement already satisfied: mdurl~=0.1 in /home/usrp-gnu/anaconda3/lib/python3.12/site-packages (from markdown-it-py<3.0.0,>=2.2.0->rich->keras->keras-tuner>=1.0.1->qkeras) (0.1.0)\n",
      "Note: you may need to restart the kernel to use updated packages.\n"
     ]
    }
   ],
   "source": [
    "pip install --upgrade qkeras"
   ]
  },
  {
   "cell_type": "code",
   "execution_count": 15,
   "id": "df165620-87c3-4fc1-bb69-0b482a88692d",
   "metadata": {},
   "outputs": [
    {
     "name": "stdout",
     "output_type": "stream",
     "text": [
      "2.17.0\n"
     ]
    }
   ],
   "source": [
    "print(tf.__version__)"
   ]
  },
  {
   "cell_type": "code",
   "execution_count": 16,
   "id": "d3053d8c-0882-42ec-ac11-ae33ce2ded39",
   "metadata": {},
   "outputs": [],
   "source": [
    "import hls4ml\n",
    "import yaml"
   ]
  },
  {
   "cell_type": "code",
   "execution_count": 17,
   "id": "834dd549-5f9c-429c-8482-5bfd2b320536",
   "metadata": {},
   "outputs": [
    {
     "name": "stdout",
     "output_type": "stream",
     "text": [
      "0.8.1\n"
     ]
    }
   ],
   "source": [
    "print(hls4ml.__version__)"
   ]
  },
  {
   "cell_type": "code",
   "execution_count": 18,
   "id": "b7bc10cc-d668-450e-b6a8-afe2df73a9ab",
   "metadata": {},
   "outputs": [],
   "source": [
    "# Unzip the file\n",
    "with zipfile.ZipFile('DATASET.zip', 'r') as zip_ref:\n",
    "    zip_ref.extractall('DATASET')  # Extract the contents to dataset"
   ]
  },
  {
   "cell_type": "code",
   "execution_count": 19,
   "id": "8829dcbb-606c-4951-9fb5-82371583eb16",
   "metadata": {},
   "outputs": [
    {
     "name": "stdout",
     "output_type": "stream",
     "text": [
      "Cancer_detection  Normal\n"
     ]
    }
   ],
   "source": [
    "# Verify that the dataset was extracted\n",
    "!ls DATASET"
   ]
  },
  {
   "cell_type": "code",
   "execution_count": 20,
   "id": "14714ce5-577e-49ae-a5da-fdcd6c8ce93a",
   "metadata": {},
   "outputs": [],
   "source": [
    "from tensorflow.keras.preprocessing.image import ImageDataGenerator"
   ]
  },
  {
   "cell_type": "code",
   "execution_count": 21,
   "id": "75951957-9d5a-4822-b017-1715352e4cdd",
   "metadata": {},
   "outputs": [],
   "source": [
    "# Path to the extracted dataset\n",
    "dataset_path = 'DATASET'"
   ]
  },
  {
   "cell_type": "code",
   "execution_count": 22,
   "id": "a20e3fbe-30b3-4025-803c-ed70410f287d",
   "metadata": {},
   "outputs": [],
   "source": [
    "# Create an ImageDataGenerator object\n",
    "datagen = ImageDataGenerator(rescale=1./255)  # Normalize the images"
   ]
  },
  {
   "cell_type": "code",
   "execution_count": 23,
   "id": "fd66ba1d-74b0-4203-944e-d4163233fbf3",
   "metadata": {},
   "outputs": [
    {
     "name": "stdout",
     "output_type": "stream",
     "text": [
      "Found 172 images belonging to 2 classes.\n"
     ]
    }
   ],
   "source": [
    "# Load the dataset from the directory\n",
    "train_generator = datagen.flow_from_directory(\n",
    "    dataset_path,\n",
    "    target_size=(200, 200),  # Resize images to 200x200 pixels\n",
    "    color_mode='grayscale',  # Convert images to grayscale\n",
    "    batch_size=32,           # Batch size of 32 images\n",
    "    class_mode='categorical'  # Assuming you have multiple classes\n",
    ")"
   ]
  },
  {
   "cell_type": "code",
   "execution_count": 24,
   "id": "4e4bbc0c-9ef5-448e-b47b-763cfbecb4ab",
   "metadata": {},
   "outputs": [
    {
     "name": "stdout",
     "output_type": "stream",
     "text": [
      "Classes: {'Cancer_detection': 0, 'Normal': 1}\n"
     ]
    }
   ],
   "source": [
    "print(f\"Classes: {train_generator.class_indices}\")  # Shows class mapping"
   ]
  },
  {
   "cell_type": "code",
   "execution_count": 25,
   "id": "0952d11e-233c-4806-8e25-39a4f9a80319",
   "metadata": {},
   "outputs": [
    {
     "name": "stdout",
     "output_type": "stream",
     "text": [
      "Number of images: 172\n"
     ]
    }
   ],
   "source": [
    "print(f\"Number of images: {train_generator.samples}\")  # Shows the total number of images"
   ]
  },
  {
   "cell_type": "code",
   "execution_count": 26,
   "id": "350fa353-06b8-4267-ace2-d97e088b802d",
   "metadata": {},
   "outputs": [
    {
     "name": "stdout",
     "output_type": "stream",
     "text": [
      "Found 172 images belonging to 2 classes.\n"
     ]
    }
   ],
   "source": [
    "# Data augmentation to artificially increase dataset size\n",
    "datagen = ImageDataGenerator(\n",
    "    rescale=1./255,\n",
    "    rotation_range=20,      # Random rotation\n",
    "    width_shift_range=0.2,  # Horizontal shift\n",
    "    height_shift_range=0.2, # Vertical shift\n",
    "    shear_range=0.2,        # Shear transformation\n",
    "    zoom_range=0.2,         # Zoom in/out\n",
    "    horizontal_flip=True,   # Randomly flip images horizontally\n",
    "    fill_mode='nearest'     # Filling missing pixels after transformation\n",
    ")\n",
    "\n",
    "train_generator = datagen.flow_from_directory('DATASET',\n",
    "    target_size=(200, 200),\n",
    "    color_mode='grayscale',\n",
    "    batch_size=32,\n",
    "    class_mode='categorical'\n",
    ")"
   ]
  },
  {
   "cell_type": "code",
   "execution_count": 27,
   "id": "1301c75f-0747-4455-aa45-c0b2b6d52bd4",
   "metadata": {},
   "outputs": [],
   "source": [
    "from tensorflow.keras.preprocessing.image import ImageDataGenerator, load_img, img_to_array\n",
    "from tensorflow.keras.models import Sequential\n",
    "from tensorflow.keras.layers import Conv2D, MaxPool2D, Flatten, Dense\n",
    "import matplotlib.pyplot as plt\n",
    "import numpy as np"
   ]
  },
  {
   "cell_type": "code",
   "execution_count": 28,
   "id": "da1dcfab-f888-48aa-8c25-62e58357ee1e",
   "metadata": {},
   "outputs": [],
   "source": [
    "# Step 1: Set the path to your dataset (replace with the actual path to your 'train' folder)\n",
    "dataset_path = 'DATASET'"
   ]
  },
  {
   "cell_type": "code",
   "execution_count": 29,
   "id": "4902ddc5-e141-4681-b618-a5db988e314d",
   "metadata": {},
   "outputs": [],
   "source": [
    "# Step 2: Create an ImageDataGenerator object\n",
    "datagen = ImageDataGenerator(rescale=1./255)  # Normalize images"
   ]
  },
  {
   "cell_type": "code",
   "execution_count": 30,
   "id": "76070860-64ae-4859-85ea-7d9aa26b7be8",
   "metadata": {},
   "outputs": [
    {
     "name": "stdout",
     "output_type": "stream",
     "text": [
      "Found 172 images belonging to 2 classes.\n"
     ]
    }
   ],
   "source": [
    "# Step 3: Load the dataset from the folder\n",
    "train_generator = datagen.flow_from_directory(\n",
    "    dataset_path,\n",
    "    target_size=(200, 200),  # Resize images to 200x200 pixels\n",
    "    color_mode='grayscale',  # Convert images to grayscale\n",
    "    batch_size=32,           # Load 32 images at a time\n",
    "    class_mode='categorical'  # Assuming your labels are categorical (for multi-class classification)\n",
    ")"
   ]
  },
  {
   "cell_type": "code",
   "execution_count": 31,
   "id": "d8381ff5-9428-4d2a-9227-a810120886ac",
   "metadata": {},
   "outputs": [
    {
     "name": "stderr",
     "output_type": "stream",
     "text": [
      "/home/usrp-gnu/anaconda3/lib/python3.12/site-packages/keras/src/layers/convolutional/base_conv.py:107: UserWarning: Do not pass an `input_shape`/`input_dim` argument to a layer. When using Sequential models, prefer using an `Input(shape)` object as the first layer in the model instead.\n",
      "  super().__init__(activity_regularizer=activity_regularizer, **kwargs)\n",
      "2024-09-24 17:58:04.870378: W external/local_tsl/tsl/framework/cpu_allocator_impl.cc:83] Allocation of 69337088 exceeds 10% of free system memory.\n",
      "2024-09-24 17:58:04.905686: W external/local_tsl/tsl/framework/cpu_allocator_impl.cc:83] Allocation of 69337088 exceeds 10% of free system memory.\n",
      "2024-09-24 17:58:04.926365: W external/local_tsl/tsl/framework/cpu_allocator_impl.cc:83] Allocation of 69337088 exceeds 10% of free system memory.\n"
     ]
    }
   ],
   "source": [
    "# Step 4: Define the CNN model\n",
    "model = Sequential([\n",
    "    Conv2D(32, (3, 3), activation='relu', input_shape=(200, 200, 1)),\n",
    "    MaxPool2D(2),\n",
    "    Conv2D(32, (3, 3), activation='relu'),\n",
    "    MaxPool2D(2),\n",
    "    Conv2D(64, (3, 3), activation='relu'),\n",
    "    MaxPool2D(2),\n",
    "    Flatten(),\n",
    "    Dense(512, activation='relu'),\n",
    "    Dense(train_generator.num_classes, activation='softmax')  # Output layer\n",
    "])"
   ]
  },
  {
   "cell_type": "code",
   "execution_count": 32,
   "id": "b04759ff-c739-4b99-beb7-d4dba508a02c",
   "metadata": {},
   "outputs": [],
   "source": [
    "# Compile the model\n",
    "model.compile(optimizer='rmsprop', loss='categorical_crossentropy', metrics=['accuracy'])"
   ]
  },
  {
   "cell_type": "code",
   "execution_count": 46,
   "id": "09ca5b89-ec33-402e-9fa5-5a922fb5e330",
   "metadata": {},
   "outputs": [
    {
     "data": {
      "text/html": [
       "<pre style=\"white-space:pre;overflow-x:auto;line-height:normal;font-family:Menlo,'DejaVu Sans Mono',consolas,'Courier New',monospace\"><span style=\"font-weight: bold\">Model: \"sequential\"</span>\n",
       "</pre>\n"
      ],
      "text/plain": [
       "\u001b[1mModel: \"sequential\"\u001b[0m\n"
      ]
     },
     "metadata": {},
     "output_type": "display_data"
    },
    {
     "data": {
      "text/html": [
       "<pre style=\"white-space:pre;overflow-x:auto;line-height:normal;font-family:Menlo,'DejaVu Sans Mono',consolas,'Courier New',monospace\">┏━━━━━━━━━━━━━━━━━━━━━━━━━━━━━━━━━┳━━━━━━━━━━━━━━━━━━━━━━━━┳━━━━━━━━━━━━━━━┓\n",
       "┃<span style=\"font-weight: bold\"> Layer (type)                    </span>┃<span style=\"font-weight: bold\"> Output Shape           </span>┃<span style=\"font-weight: bold\">       Param # </span>┃\n",
       "┡━━━━━━━━━━━━━━━━━━━━━━━━━━━━━━━━━╇━━━━━━━━━━━━━━━━━━━━━━━━╇━━━━━━━━━━━━━━━┩\n",
       "│ conv2d (<span style=\"color: #0087ff; text-decoration-color: #0087ff\">Conv2D</span>)                 │ (<span style=\"color: #00d7ff; text-decoration-color: #00d7ff\">None</span>, <span style=\"color: #00af00; text-decoration-color: #00af00\">198</span>, <span style=\"color: #00af00; text-decoration-color: #00af00\">198</span>, <span style=\"color: #00af00; text-decoration-color: #00af00\">32</span>)   │           <span style=\"color: #00af00; text-decoration-color: #00af00\">320</span> │\n",
       "├─────────────────────────────────┼────────────────────────┼───────────────┤\n",
       "│ max_pooling2d (<span style=\"color: #0087ff; text-decoration-color: #0087ff\">MaxPooling2D</span>)    │ (<span style=\"color: #00d7ff; text-decoration-color: #00d7ff\">None</span>, <span style=\"color: #00af00; text-decoration-color: #00af00\">99</span>, <span style=\"color: #00af00; text-decoration-color: #00af00\">99</span>, <span style=\"color: #00af00; text-decoration-color: #00af00\">32</span>)     │             <span style=\"color: #00af00; text-decoration-color: #00af00\">0</span> │\n",
       "├─────────────────────────────────┼────────────────────────┼───────────────┤\n",
       "│ conv2d_1 (<span style=\"color: #0087ff; text-decoration-color: #0087ff\">Conv2D</span>)               │ (<span style=\"color: #00d7ff; text-decoration-color: #00d7ff\">None</span>, <span style=\"color: #00af00; text-decoration-color: #00af00\">97</span>, <span style=\"color: #00af00; text-decoration-color: #00af00\">97</span>, <span style=\"color: #00af00; text-decoration-color: #00af00\">32</span>)     │         <span style=\"color: #00af00; text-decoration-color: #00af00\">9,248</span> │\n",
       "├─────────────────────────────────┼────────────────────────┼───────────────┤\n",
       "│ max_pooling2d_1 (<span style=\"color: #0087ff; text-decoration-color: #0087ff\">MaxPooling2D</span>)  │ (<span style=\"color: #00d7ff; text-decoration-color: #00d7ff\">None</span>, <span style=\"color: #00af00; text-decoration-color: #00af00\">48</span>, <span style=\"color: #00af00; text-decoration-color: #00af00\">48</span>, <span style=\"color: #00af00; text-decoration-color: #00af00\">32</span>)     │             <span style=\"color: #00af00; text-decoration-color: #00af00\">0</span> │\n",
       "├─────────────────────────────────┼────────────────────────┼───────────────┤\n",
       "│ conv2d_2 (<span style=\"color: #0087ff; text-decoration-color: #0087ff\">Conv2D</span>)               │ (<span style=\"color: #00d7ff; text-decoration-color: #00d7ff\">None</span>, <span style=\"color: #00af00; text-decoration-color: #00af00\">46</span>, <span style=\"color: #00af00; text-decoration-color: #00af00\">46</span>, <span style=\"color: #00af00; text-decoration-color: #00af00\">64</span>)     │        <span style=\"color: #00af00; text-decoration-color: #00af00\">18,496</span> │\n",
       "├─────────────────────────────────┼────────────────────────┼───────────────┤\n",
       "│ max_pooling2d_2 (<span style=\"color: #0087ff; text-decoration-color: #0087ff\">MaxPooling2D</span>)  │ (<span style=\"color: #00d7ff; text-decoration-color: #00d7ff\">None</span>, <span style=\"color: #00af00; text-decoration-color: #00af00\">23</span>, <span style=\"color: #00af00; text-decoration-color: #00af00\">23</span>, <span style=\"color: #00af00; text-decoration-color: #00af00\">64</span>)     │             <span style=\"color: #00af00; text-decoration-color: #00af00\">0</span> │\n",
       "├─────────────────────────────────┼────────────────────────┼───────────────┤\n",
       "│ flatten (<span style=\"color: #0087ff; text-decoration-color: #0087ff\">Flatten</span>)               │ (<span style=\"color: #00d7ff; text-decoration-color: #00d7ff\">None</span>, <span style=\"color: #00af00; text-decoration-color: #00af00\">33856</span>)          │             <span style=\"color: #00af00; text-decoration-color: #00af00\">0</span> │\n",
       "├─────────────────────────────────┼────────────────────────┼───────────────┤\n",
       "│ dense (<span style=\"color: #0087ff; text-decoration-color: #0087ff\">Dense</span>)                   │ (<span style=\"color: #00d7ff; text-decoration-color: #00d7ff\">None</span>, <span style=\"color: #00af00; text-decoration-color: #00af00\">512</span>)            │    <span style=\"color: #00af00; text-decoration-color: #00af00\">17,334,784</span> │\n",
       "├─────────────────────────────────┼────────────────────────┼───────────────┤\n",
       "│ dense_1 (<span style=\"color: #0087ff; text-decoration-color: #0087ff\">Dense</span>)                 │ (<span style=\"color: #00d7ff; text-decoration-color: #00d7ff\">None</span>, <span style=\"color: #00af00; text-decoration-color: #00af00\">2</span>)              │         <span style=\"color: #00af00; text-decoration-color: #00af00\">1,026</span> │\n",
       "└─────────────────────────────────┴────────────────────────┴───────────────┘\n",
       "</pre>\n"
      ],
      "text/plain": [
       "┏━━━━━━━━━━━━━━━━━━━━━━━━━━━━━━━━━┳━━━━━━━━━━━━━━━━━━━━━━━━┳━━━━━━━━━━━━━━━┓\n",
       "┃\u001b[1m \u001b[0m\u001b[1mLayer (type)                   \u001b[0m\u001b[1m \u001b[0m┃\u001b[1m \u001b[0m\u001b[1mOutput Shape          \u001b[0m\u001b[1m \u001b[0m┃\u001b[1m \u001b[0m\u001b[1m      Param #\u001b[0m\u001b[1m \u001b[0m┃\n",
       "┡━━━━━━━━━━━━━━━━━━━━━━━━━━━━━━━━━╇━━━━━━━━━━━━━━━━━━━━━━━━╇━━━━━━━━━━━━━━━┩\n",
       "│ conv2d (\u001b[38;5;33mConv2D\u001b[0m)                 │ (\u001b[38;5;45mNone\u001b[0m, \u001b[38;5;34m198\u001b[0m, \u001b[38;5;34m198\u001b[0m, \u001b[38;5;34m32\u001b[0m)   │           \u001b[38;5;34m320\u001b[0m │\n",
       "├─────────────────────────────────┼────────────────────────┼───────────────┤\n",
       "│ max_pooling2d (\u001b[38;5;33mMaxPooling2D\u001b[0m)    │ (\u001b[38;5;45mNone\u001b[0m, \u001b[38;5;34m99\u001b[0m, \u001b[38;5;34m99\u001b[0m, \u001b[38;5;34m32\u001b[0m)     │             \u001b[38;5;34m0\u001b[0m │\n",
       "├─────────────────────────────────┼────────────────────────┼───────────────┤\n",
       "│ conv2d_1 (\u001b[38;5;33mConv2D\u001b[0m)               │ (\u001b[38;5;45mNone\u001b[0m, \u001b[38;5;34m97\u001b[0m, \u001b[38;5;34m97\u001b[0m, \u001b[38;5;34m32\u001b[0m)     │         \u001b[38;5;34m9,248\u001b[0m │\n",
       "├─────────────────────────────────┼────────────────────────┼───────────────┤\n",
       "│ max_pooling2d_1 (\u001b[38;5;33mMaxPooling2D\u001b[0m)  │ (\u001b[38;5;45mNone\u001b[0m, \u001b[38;5;34m48\u001b[0m, \u001b[38;5;34m48\u001b[0m, \u001b[38;5;34m32\u001b[0m)     │             \u001b[38;5;34m0\u001b[0m │\n",
       "├─────────────────────────────────┼────────────────────────┼───────────────┤\n",
       "│ conv2d_2 (\u001b[38;5;33mConv2D\u001b[0m)               │ (\u001b[38;5;45mNone\u001b[0m, \u001b[38;5;34m46\u001b[0m, \u001b[38;5;34m46\u001b[0m, \u001b[38;5;34m64\u001b[0m)     │        \u001b[38;5;34m18,496\u001b[0m │\n",
       "├─────────────────────────────────┼────────────────────────┼───────────────┤\n",
       "│ max_pooling2d_2 (\u001b[38;5;33mMaxPooling2D\u001b[0m)  │ (\u001b[38;5;45mNone\u001b[0m, \u001b[38;5;34m23\u001b[0m, \u001b[38;5;34m23\u001b[0m, \u001b[38;5;34m64\u001b[0m)     │             \u001b[38;5;34m0\u001b[0m │\n",
       "├─────────────────────────────────┼────────────────────────┼───────────────┤\n",
       "│ flatten (\u001b[38;5;33mFlatten\u001b[0m)               │ (\u001b[38;5;45mNone\u001b[0m, \u001b[38;5;34m33856\u001b[0m)          │             \u001b[38;5;34m0\u001b[0m │\n",
       "├─────────────────────────────────┼────────────────────────┼───────────────┤\n",
       "│ dense (\u001b[38;5;33mDense\u001b[0m)                   │ (\u001b[38;5;45mNone\u001b[0m, \u001b[38;5;34m512\u001b[0m)            │    \u001b[38;5;34m17,334,784\u001b[0m │\n",
       "├─────────────────────────────────┼────────────────────────┼───────────────┤\n",
       "│ dense_1 (\u001b[38;5;33mDense\u001b[0m)                 │ (\u001b[38;5;45mNone\u001b[0m, \u001b[38;5;34m2\u001b[0m)              │         \u001b[38;5;34m1,026\u001b[0m │\n",
       "└─────────────────────────────────┴────────────────────────┴───────────────┘\n"
      ]
     },
     "metadata": {},
     "output_type": "display_data"
    },
    {
     "data": {
      "text/html": [
       "<pre style=\"white-space:pre;overflow-x:auto;line-height:normal;font-family:Menlo,'DejaVu Sans Mono',consolas,'Courier New',monospace\"><span style=\"font-weight: bold\"> Total params: </span><span style=\"color: #00af00; text-decoration-color: #00af00\">34,727,750</span> (132.48 MB)\n",
       "</pre>\n"
      ],
      "text/plain": [
       "\u001b[1m Total params: \u001b[0m\u001b[38;5;34m34,727,750\u001b[0m (132.48 MB)\n"
      ]
     },
     "metadata": {},
     "output_type": "display_data"
    },
    {
     "data": {
      "text/html": [
       "<pre style=\"white-space:pre;overflow-x:auto;line-height:normal;font-family:Menlo,'DejaVu Sans Mono',consolas,'Courier New',monospace\"><span style=\"font-weight: bold\"> Trainable params: </span><span style=\"color: #00af00; text-decoration-color: #00af00\">17,363,874</span> (66.24 MB)\n",
       "</pre>\n"
      ],
      "text/plain": [
       "\u001b[1m Trainable params: \u001b[0m\u001b[38;5;34m17,363,874\u001b[0m (66.24 MB)\n"
      ]
     },
     "metadata": {},
     "output_type": "display_data"
    },
    {
     "data": {
      "text/html": [
       "<pre style=\"white-space:pre;overflow-x:auto;line-height:normal;font-family:Menlo,'DejaVu Sans Mono',consolas,'Courier New',monospace\"><span style=\"font-weight: bold\"> Non-trainable params: </span><span style=\"color: #00af00; text-decoration-color: #00af00\">0</span> (0.00 B)\n",
       "</pre>\n"
      ],
      "text/plain": [
       "\u001b[1m Non-trainable params: \u001b[0m\u001b[38;5;34m0\u001b[0m (0.00 B)\n"
      ]
     },
     "metadata": {},
     "output_type": "display_data"
    },
    {
     "data": {
      "text/html": [
       "<pre style=\"white-space:pre;overflow-x:auto;line-height:normal;font-family:Menlo,'DejaVu Sans Mono',consolas,'Courier New',monospace\"><span style=\"font-weight: bold\"> Optimizer params: </span><span style=\"color: #00af00; text-decoration-color: #00af00\">17,363,876</span> (66.24 MB)\n",
       "</pre>\n"
      ],
      "text/plain": [
       "\u001b[1m Optimizer params: \u001b[0m\u001b[38;5;34m17,363,876\u001b[0m (66.24 MB)\n"
      ]
     },
     "metadata": {},
     "output_type": "display_data"
    }
   ],
   "source": [
    "model.summary()"
   ]
  },
  {
   "cell_type": "code",
   "execution_count": 33,
   "id": "c9a1da76-a9c4-47f8-af01-0ab20416318e",
   "metadata": {},
   "outputs": [
    {
     "name": "stdout",
     "output_type": "stream",
     "text": [
      "Epoch 1/10\n"
     ]
    },
    {
     "name": "stderr",
     "output_type": "stream",
     "text": [
      "2024-09-24 17:58:06.667710: W external/local_tsl/tsl/framework/cpu_allocator_impl.cc:83] Allocation of 69337088 exceeds 10% of free system memory.\n",
      "2024-09-24 17:58:07.184900: W external/local_tsl/tsl/framework/cpu_allocator_impl.cc:83] Allocation of 69337088 exceeds 10% of free system memory.\n",
      "/home/usrp-gnu/anaconda3/lib/python3.12/site-packages/keras/src/trainers/data_adapters/py_dataset_adapter.py:122: UserWarning: Your `PyDataset` class should call `super().__init__(**kwargs)` in its constructor. `**kwargs` can include `workers`, `use_multiprocessing`, `max_queue_size`. Do not pass these arguments to `fit()`, as they will be ignored.\n",
      "  self._warn_if_super_not_called()\n"
     ]
    },
    {
     "name": "stdout",
     "output_type": "stream",
     "text": [
      "\u001b[1m5/5\u001b[0m \u001b[32m━━━━━━━━━━━━━━━━━━━━\u001b[0m\u001b[37m\u001b[0m \u001b[1m11s\u001b[0m 2s/step - accuracy: 0.5593 - loss: 2.0053\n",
      "Epoch 2/10\n",
      "\u001b[1m1/5\u001b[0m \u001b[32m━━━━\u001b[0m\u001b[37m━━━━━━━━━━━━━━━━\u001b[0m \u001b[1m3s\u001b[0m 965ms/step - accuracy: 0.8125 - loss: 0.4807"
     ]
    },
    {
     "name": "stderr",
     "output_type": "stream",
     "text": [
      "2024-09-24 17:58:18.252340: I tensorflow/core/framework/local_rendezvous.cc:404] Local rendezvous is aborting with status: OUT_OF_RANGE: End of sequence\n",
      "\t [[{{node IteratorGetNext}}]]\n"
     ]
    },
    {
     "name": "stdout",
     "output_type": "stream",
     "text": [
      "\u001b[1m5/5\u001b[0m \u001b[32m━━━━━━━━━━━━━━━━━━━━\u001b[0m\u001b[37m\u001b[0m \u001b[1m1s\u001b[0m 106ms/step - accuracy: 0.8125 - loss: 0.4807\n",
      "Epoch 3/10\n"
     ]
    },
    {
     "name": "stderr",
     "output_type": "stream",
     "text": [
      "/home/usrp-gnu/anaconda3/lib/python3.12/contextlib.py:158: UserWarning: Your input ran out of data; interrupting training. Make sure that your dataset or generator can generate at least `steps_per_epoch * epochs` batches. You may need to use the `.repeat()` function when building your dataset.\n",
      "  self.gen.throw(value)\n",
      "2024-09-24 17:58:38.925834: I tensorflow/core/kernels/data/shuffle_dataset_op.cc:450] ShuffleDatasetV3:2: Filling up shuffle buffer (this may take a while): 3 of 8\n",
      "2024-09-24 17:58:42.668907: I tensorflow/core/kernels/data/shuffle_dataset_op.cc:480] Shuffle buffer filled.\n"
     ]
    },
    {
     "name": "stdout",
     "output_type": "stream",
     "text": [
      "\u001b[1m5/5\u001b[0m \u001b[32m━━━━━━━━━━━━━━━━━━━━\u001b[0m\u001b[37m\u001b[0m \u001b[1m29s\u001b[0m 960ms/step - accuracy: 0.7055 - loss: 0.3444\n",
      "Epoch 4/10\n",
      "\u001b[1m5/5\u001b[0m \u001b[32m━━━━━━━━━━━━━━━━━━━━\u001b[0m\u001b[37m\u001b[0m \u001b[1m1s\u001b[0m 13ms/step - accuracy: 0.9375 - loss: 0.1252\n",
      "Epoch 5/10\n"
     ]
    },
    {
     "name": "stderr",
     "output_type": "stream",
     "text": [
      "2024-09-24 17:58:48.543652: I tensorflow/core/framework/local_rendezvous.cc:404] Local rendezvous is aborting with status: OUT_OF_RANGE: End of sequence\n",
      "\t [[{{node IteratorGetNext}}]]\n"
     ]
    },
    {
     "name": "stdout",
     "output_type": "stream",
     "text": [
      "\u001b[1m5/5\u001b[0m \u001b[32m━━━━━━━━━━━━━━━━━━━━\u001b[0m\u001b[37m\u001b[0m \u001b[1m6s\u001b[0m 889ms/step - accuracy: 1.0000 - loss: 0.0439\n",
      "Epoch 6/10\n",
      "\u001b[1m5/5\u001b[0m \u001b[32m━━━━━━━━━━━━━━━━━━━━\u001b[0m\u001b[37m\u001b[0m \u001b[1m1s\u001b[0m 7ms/step - accuracy: 1.0000 - loss: 0.0114  \n",
      "Epoch 7/10\n",
      "\u001b[1m5/5\u001b[0m \u001b[32m━━━━━━━━━━━━━━━━━━━━\u001b[0m\u001b[37m\u001b[0m \u001b[1m6s\u001b[0m 1s/step - accuracy: 1.0000 - loss: 0.0086\n",
      "Epoch 8/10\n",
      "\u001b[1m5/5\u001b[0m \u001b[32m━━━━━━━━━━━━━━━━━━━━\u001b[0m\u001b[37m\u001b[0m \u001b[1m1s\u001b[0m 8ms/step - accuracy: 1.0000 - loss: 0.0038  \n",
      "Epoch 9/10\n"
     ]
    },
    {
     "name": "stderr",
     "output_type": "stream",
     "text": [
      "2024-09-24 17:59:02.291644: I tensorflow/core/framework/local_rendezvous.cc:404] Local rendezvous is aborting with status: OUT_OF_RANGE: End of sequence\n",
      "\t [[{{node IteratorGetNext}}]]\n"
     ]
    },
    {
     "name": "stdout",
     "output_type": "stream",
     "text": [
      "\u001b[1m5/5\u001b[0m \u001b[32m━━━━━━━━━━━━━━━━━━━━\u001b[0m\u001b[37m\u001b[0m \u001b[1m5s\u001b[0m 786ms/step - accuracy: 1.0000 - loss: 0.0046\n",
      "Epoch 10/10\n",
      "\u001b[1m5/5\u001b[0m \u001b[32m━━━━━━━━━━━━━━━━━━━━\u001b[0m\u001b[37m\u001b[0m \u001b[1m1s\u001b[0m 8ms/step - accuracy: 1.0000 - loss: 0.0015  \n"
     ]
    }
   ],
   "source": [
    "# Train the model\n",
    "history=model.fit(\n",
    "    train_generator,\n",
    "    steps_per_epoch=train_generator.samples // train_generator.batch_size,\n",
    "    epochs=10  # Adjust the number of epochs as needed\n",
    ")"
   ]
  },
  {
   "cell_type": "code",
   "execution_count": 34,
   "id": "b0b7d41a-991f-48bc-8f02-c25b4d648387",
   "metadata": {},
   "outputs": [
    {
     "name": "stdout",
     "output_type": "stream",
     "text": [
      "Epoch 1/10\n",
      "\u001b[1m5/5\u001b[0m \u001b[32m━━━━━━━━━━━━━━━━━━━━\u001b[0m\u001b[37m\u001b[0m \u001b[1m7s\u001b[0m 951ms/step - accuracy: 1.0000 - loss: 0.0017\n",
      "Epoch 2/10\n",
      "\u001b[1m5/5\u001b[0m \u001b[32m━━━━━━━━━━━━━━━━━━━━\u001b[0m\u001b[37m\u001b[0m \u001b[1m1s\u001b[0m 9ms/step - accuracy: 1.0000 - loss: 1.5173e-04  \n",
      "Epoch 3/10\n",
      "\u001b[1m5/5\u001b[0m \u001b[32m━━━━━━━━━━━━━━━━━━━━\u001b[0m\u001b[37m\u001b[0m \u001b[1m5s\u001b[0m 907ms/step - accuracy: 1.0000 - loss: 9.5698e-04\n",
      "Epoch 4/10\n",
      "\u001b[1m5/5\u001b[0m \u001b[32m━━━━━━━━━━━━━━━━━━━━\u001b[0m\u001b[37m\u001b[0m \u001b[1m1s\u001b[0m 9ms/step - accuracy: 1.0000 - loss: 7.2244e-04  \n",
      "Epoch 5/10\n",
      "\u001b[1m5/5\u001b[0m \u001b[32m━━━━━━━━━━━━━━━━━━━━\u001b[0m\u001b[37m\u001b[0m \u001b[1m7s\u001b[0m 1s/step - accuracy: 1.0000 - loss: 6.1508e-04\n",
      "Epoch 6/10\n",
      "\u001b[1m5/5\u001b[0m \u001b[32m━━━━━━━━━━━━━━━━━━━━\u001b[0m\u001b[37m\u001b[0m \u001b[1m1s\u001b[0m 7ms/step - accuracy: 1.0000 - loss: 4.9617e-04  \n",
      "Epoch 7/10\n"
     ]
    },
    {
     "name": "stderr",
     "output_type": "stream",
     "text": [
      "2024-09-24 17:59:31.543831: I tensorflow/core/framework/local_rendezvous.cc:404] Local rendezvous is aborting with status: OUT_OF_RANGE: End of sequence\n",
      "\t [[{{node IteratorGetNext}}]]\n"
     ]
    },
    {
     "name": "stdout",
     "output_type": "stream",
     "text": [
      "\u001b[1m5/5\u001b[0m \u001b[32m━━━━━━━━━━━━━━━━━━━━\u001b[0m\u001b[37m\u001b[0m \u001b[1m5s\u001b[0m 798ms/step - accuracy: 1.0000 - loss: 3.3651e-04\n",
      "Epoch 8/10\n",
      "\u001b[1m5/5\u001b[0m \u001b[32m━━━━━━━━━━━━━━━━━━━━\u001b[0m\u001b[37m\u001b[0m \u001b[1m1s\u001b[0m 9ms/step - accuracy: 1.0000 - loss: 5.6649e-04  \n",
      "Epoch 9/10\n",
      "\u001b[1m5/5\u001b[0m \u001b[32m━━━━━━━━━━━━━━━━━━━━\u001b[0m\u001b[37m\u001b[0m \u001b[1m5s\u001b[0m 844ms/step - accuracy: 1.0000 - loss: 3.0774e-04\n",
      "Epoch 10/10\n",
      "\u001b[1m5/5\u001b[0m \u001b[32m━━━━━━━━━━━━━━━━━━━━\u001b[0m\u001b[37m\u001b[0m \u001b[1m1s\u001b[0m 11ms/step - accuracy: 1.0000 - loss: 2.5760e-04 \n"
     ]
    },
    {
     "data": {
      "text/plain": [
       "<keras.src.callbacks.history.History at 0x7f85cc4a9610>"
      ]
     },
     "execution_count": 34,
     "metadata": {},
     "output_type": "execute_result"
    }
   ],
   "source": [
    "# Step 6: Train the model with the dataset\n",
    "model.fit(\n",
    "    train_generator,\n",
    "    steps_per_epoch=train_generator.samples // train_generator.batch_size,\n",
    "    epochs=10  # Adjust based on your needs\n",
    ")"
   ]
  },
  {
   "cell_type": "code",
   "execution_count": 35,
   "id": "045164b0-b2c7-4a80-9e8a-c763469cbb56",
   "metadata": {},
   "outputs": [
    {
     "name": "stdout",
     "output_type": "stream",
     "text": [
      "Requirement already satisfied: opencv-python in /home/usrp-gnu/anaconda3/lib/python3.12/site-packages (4.10.0.84)\n",
      "Requirement already satisfied: numpy>=1.21.2 in /home/usrp-gnu/anaconda3/lib/python3.12/site-packages (from opencv-python) (1.26.4)\n"
     ]
    }
   ],
   "source": [
    "!pip install opencv-python"
   ]
  },
  {
   "cell_type": "code",
   "execution_count": 36,
   "id": "3f639de3-76f8-4ca5-8e64-6d829739ffd2",
   "metadata": {},
   "outputs": [],
   "source": [
    "import cv2"
   ]
  },
  {
   "cell_type": "code",
   "execution_count": 37,
   "id": "4fd2400e-4644-4203-ba59-82669e2d79fe",
   "metadata": {},
   "outputs": [],
   "source": [
    "def remove_white_border(image):\n",
    "    # Convert image to grayscale\n",
    "    gray = cv2.cvtColor(image, cv2.COLOR_BGR2GRAY)\n",
    "    # Apply binary thresholding\n",
    "    _, thresh = cv2.threshold(gray, 240, 255, cv2.THRESH_BINARY)\n",
    "    # Find contours\n",
    "    contours, _ = cv2.findContours(thresh, cv2.RETR_EXTERNAL, cv2.CHAIN_APPROX_SIMPLE)\n",
    "    # Get bounding box coordinates\n",
    "    x, y, w, h = cv2.boundingRect(contours[0])\n",
    "    # Crop the image to remove the white border\n",
    "    return image[y:y+h, x:x+w]"
   ]
  },
  {
   "cell_type": "code",
   "execution_count": 38,
   "id": "f7699b74-45ce-4ef4-a3ed-a7ad5b5fb045",
   "metadata": {},
   "outputs": [],
   "source": [
    "# Apply it to each image in the training set\n",
    "def preprocess_images(image_path):\n",
    "    img = cv2.imread(image_path)\n",
    "    img_no_border = remove_white_border(img)\n",
    "    return img_no_border"
   ]
  },
  {
   "cell_type": "code",
   "execution_count": 39,
   "id": "3eaddbda-aae3-4ad3-a809-83d8accab0e7",
   "metadata": {},
   "outputs": [],
   "source": [
    "# Set the number of images to predict\n",
    "num_images_to_predict = 100\n",
    "predicted_labels = []\n",
    "actual_labels = []\n",
    "filenames = []"
   ]
  },
  {
   "cell_type": "code",
   "execution_count": 40,
   "id": "09772d9d-c129-46b8-a320-297919ce5e1c",
   "metadata": {},
   "outputs": [],
   "source": [
    "# Initialize counters\n",
    "current_count = 0"
   ]
  },
  {
   "cell_type": "code",
   "execution_count": 41,
   "id": "783a28cd-23db-4ec4-bad0-bae13c16e5b7",
   "metadata": {},
   "outputs": [
    {
     "name": "stdout",
     "output_type": "stream",
     "text": [
      "\u001b[1m1/1\u001b[0m \u001b[32m━━━━━━━━━━━━━━━━━━━━\u001b[0m\u001b[37m\u001b[0m \u001b[1m0s\u001b[0m 455ms/step\n",
      "\u001b[1m1/1\u001b[0m \u001b[32m━━━━━━━━━━━━━━━━━━━━\u001b[0m\u001b[37m\u001b[0m \u001b[1m0s\u001b[0m 41ms/step\n",
      "\u001b[1m1/1\u001b[0m \u001b[32m━━━━━━━━━━━━━━━━━━━━\u001b[0m\u001b[37m\u001b[0m \u001b[1m0s\u001b[0m 27ms/step\n",
      "\u001b[1m1/1\u001b[0m \u001b[32m━━━━━━━━━━━━━━━━━━━━\u001b[0m\u001b[37m\u001b[0m \u001b[1m0s\u001b[0m 27ms/step\n",
      "\u001b[1m1/1\u001b[0m \u001b[32m━━━━━━━━━━━━━━━━━━━━\u001b[0m\u001b[37m\u001b[0m \u001b[1m0s\u001b[0m 26ms/step\n",
      "\u001b[1m1/1\u001b[0m \u001b[32m━━━━━━━━━━━━━━━━━━━━\u001b[0m\u001b[37m\u001b[0m \u001b[1m0s\u001b[0m 27ms/step\n",
      "\u001b[1m1/1\u001b[0m \u001b[32m━━━━━━━━━━━━━━━━━━━━\u001b[0m\u001b[37m\u001b[0m \u001b[1m0s\u001b[0m 26ms/step\n",
      "\u001b[1m1/1\u001b[0m \u001b[32m━━━━━━━━━━━━━━━━━━━━\u001b[0m\u001b[37m\u001b[0m \u001b[1m0s\u001b[0m 28ms/step\n",
      "\u001b[1m1/1\u001b[0m \u001b[32m━━━━━━━━━━━━━━━━━━━━\u001b[0m\u001b[37m\u001b[0m \u001b[1m0s\u001b[0m 27ms/step\n",
      "\u001b[1m1/1\u001b[0m \u001b[32m━━━━━━━━━━━━━━━━━━━━\u001b[0m\u001b[37m\u001b[0m \u001b[1m0s\u001b[0m 26ms/step\n",
      "\u001b[1m1/1\u001b[0m \u001b[32m━━━━━━━━━━━━━━━━━━━━\u001b[0m\u001b[37m\u001b[0m \u001b[1m0s\u001b[0m 43ms/step\n",
      "\u001b[1m1/1\u001b[0m \u001b[32m━━━━━━━━━━━━━━━━━━━━\u001b[0m\u001b[37m\u001b[0m \u001b[1m0s\u001b[0m 26ms/step\n",
      "\u001b[1m1/1\u001b[0m \u001b[32m━━━━━━━━━━━━━━━━━━━━\u001b[0m\u001b[37m\u001b[0m \u001b[1m0s\u001b[0m 26ms/step\n",
      "\u001b[1m1/1\u001b[0m \u001b[32m━━━━━━━━━━━━━━━━━━━━\u001b[0m\u001b[37m\u001b[0m \u001b[1m0s\u001b[0m 27ms/step\n",
      "\u001b[1m1/1\u001b[0m \u001b[32m━━━━━━━━━━━━━━━━━━━━\u001b[0m\u001b[37m\u001b[0m \u001b[1m0s\u001b[0m 26ms/step\n",
      "\u001b[1m1/1\u001b[0m \u001b[32m━━━━━━━━━━━━━━━━━━━━\u001b[0m\u001b[37m\u001b[0m \u001b[1m0s\u001b[0m 25ms/step\n",
      "\u001b[1m1/1\u001b[0m \u001b[32m━━━━━━━━━━━━━━━━━━━━\u001b[0m\u001b[37m\u001b[0m \u001b[1m0s\u001b[0m 28ms/step\n",
      "\u001b[1m1/1\u001b[0m \u001b[32m━━━━━━━━━━━━━━━━━━━━\u001b[0m\u001b[37m\u001b[0m \u001b[1m0s\u001b[0m 26ms/step\n",
      "\u001b[1m1/1\u001b[0m \u001b[32m━━━━━━━━━━━━━━━━━━━━\u001b[0m\u001b[37m\u001b[0m \u001b[1m0s\u001b[0m 26ms/step\n",
      "\u001b[1m1/1\u001b[0m \u001b[32m━━━━━━━━━━━━━━━━━━━━\u001b[0m\u001b[37m\u001b[0m \u001b[1m0s\u001b[0m 26ms/step\n",
      "\u001b[1m1/1\u001b[0m \u001b[32m━━━━━━━━━━━━━━━━━━━━\u001b[0m\u001b[37m\u001b[0m \u001b[1m0s\u001b[0m 27ms/step\n",
      "\u001b[1m1/1\u001b[0m \u001b[32m━━━━━━━━━━━━━━━━━━━━\u001b[0m\u001b[37m\u001b[0m \u001b[1m0s\u001b[0m 26ms/step\n",
      "\u001b[1m1/1\u001b[0m \u001b[32m━━━━━━━━━━━━━━━━━━━━\u001b[0m\u001b[37m\u001b[0m \u001b[1m0s\u001b[0m 26ms/step\n",
      "\u001b[1m1/1\u001b[0m \u001b[32m━━━━━━━━━━━━━━━━━━━━\u001b[0m\u001b[37m\u001b[0m \u001b[1m0s\u001b[0m 26ms/step\n",
      "\u001b[1m1/1\u001b[0m \u001b[32m━━━━━━━━━━━━━━━━━━━━\u001b[0m\u001b[37m\u001b[0m \u001b[1m0s\u001b[0m 26ms/step\n",
      "\u001b[1m1/1\u001b[0m \u001b[32m━━━━━━━━━━━━━━━━━━━━\u001b[0m\u001b[37m\u001b[0m \u001b[1m0s\u001b[0m 26ms/step\n",
      "\u001b[1m1/1\u001b[0m \u001b[32m━━━━━━━━━━━━━━━━━━━━\u001b[0m\u001b[37m\u001b[0m \u001b[1m0s\u001b[0m 25ms/step\n",
      "\u001b[1m1/1\u001b[0m \u001b[32m━━━━━━━━━━━━━━━━━━━━\u001b[0m\u001b[37m\u001b[0m \u001b[1m0s\u001b[0m 27ms/step\n",
      "\u001b[1m1/1\u001b[0m \u001b[32m━━━━━━━━━━━━━━━━━━━━\u001b[0m\u001b[37m\u001b[0m \u001b[1m0s\u001b[0m 27ms/step\n",
      "\u001b[1m1/1\u001b[0m \u001b[32m━━━━━━━━━━━━━━━━━━━━\u001b[0m\u001b[37m\u001b[0m \u001b[1m0s\u001b[0m 25ms/step\n",
      "\u001b[1m1/1\u001b[0m \u001b[32m━━━━━━━━━━━━━━━━━━━━\u001b[0m\u001b[37m\u001b[0m \u001b[1m0s\u001b[0m 43ms/step\n",
      "\u001b[1m1/1\u001b[0m \u001b[32m━━━━━━━━━━━━━━━━━━━━\u001b[0m\u001b[37m\u001b[0m \u001b[1m0s\u001b[0m 26ms/step\n",
      "\u001b[1m1/1\u001b[0m \u001b[32m━━━━━━━━━━━━━━━━━━━━\u001b[0m\u001b[37m\u001b[0m \u001b[1m0s\u001b[0m 23ms/step\n",
      "\u001b[1m1/1\u001b[0m \u001b[32m━━━━━━━━━━━━━━━━━━━━\u001b[0m\u001b[37m\u001b[0m \u001b[1m0s\u001b[0m 25ms/step\n",
      "\u001b[1m1/1\u001b[0m \u001b[32m━━━━━━━━━━━━━━━━━━━━\u001b[0m\u001b[37m\u001b[0m \u001b[1m0s\u001b[0m 26ms/step\n",
      "\u001b[1m1/1\u001b[0m \u001b[32m━━━━━━━━━━━━━━━━━━━━\u001b[0m\u001b[37m\u001b[0m \u001b[1m0s\u001b[0m 26ms/step\n",
      "\u001b[1m1/1\u001b[0m \u001b[32m━━━━━━━━━━━━━━━━━━━━\u001b[0m\u001b[37m\u001b[0m \u001b[1m0s\u001b[0m 26ms/step\n",
      "\u001b[1m1/1\u001b[0m \u001b[32m━━━━━━━━━━━━━━━━━━━━\u001b[0m\u001b[37m\u001b[0m \u001b[1m0s\u001b[0m 26ms/step\n",
      "\u001b[1m1/1\u001b[0m \u001b[32m━━━━━━━━━━━━━━━━━━━━\u001b[0m\u001b[37m\u001b[0m \u001b[1m0s\u001b[0m 27ms/step\n",
      "\u001b[1m1/1\u001b[0m \u001b[32m━━━━━━━━━━━━━━━━━━━━\u001b[0m\u001b[37m\u001b[0m \u001b[1m0s\u001b[0m 27ms/step\n",
      "\u001b[1m1/1\u001b[0m \u001b[32m━━━━━━━━━━━━━━━━━━━━\u001b[0m\u001b[37m\u001b[0m \u001b[1m0s\u001b[0m 27ms/step\n",
      "\u001b[1m1/1\u001b[0m \u001b[32m━━━━━━━━━━━━━━━━━━━━\u001b[0m\u001b[37m\u001b[0m \u001b[1m0s\u001b[0m 25ms/step\n",
      "\u001b[1m1/1\u001b[0m \u001b[32m━━━━━━━━━━━━━━━━━━━━\u001b[0m\u001b[37m\u001b[0m \u001b[1m0s\u001b[0m 27ms/step\n",
      "\u001b[1m1/1\u001b[0m \u001b[32m━━━━━━━━━━━━━━━━━━━━\u001b[0m\u001b[37m\u001b[0m \u001b[1m0s\u001b[0m 26ms/step\n",
      "\u001b[1m1/1\u001b[0m \u001b[32m━━━━━━━━━━━━━━━━━━━━\u001b[0m\u001b[37m\u001b[0m \u001b[1m0s\u001b[0m 26ms/step\n",
      "\u001b[1m1/1\u001b[0m \u001b[32m━━━━━━━━━━━━━━━━━━━━\u001b[0m\u001b[37m\u001b[0m \u001b[1m0s\u001b[0m 25ms/step\n",
      "\u001b[1m1/1\u001b[0m \u001b[32m━━━━━━━━━━━━━━━━━━━━\u001b[0m\u001b[37m\u001b[0m \u001b[1m0s\u001b[0m 25ms/step\n",
      "\u001b[1m1/1\u001b[0m \u001b[32m━━━━━━━━━━━━━━━━━━━━\u001b[0m\u001b[37m\u001b[0m \u001b[1m0s\u001b[0m 26ms/step\n",
      "\u001b[1m1/1\u001b[0m \u001b[32m━━━━━━━━━━━━━━━━━━━━\u001b[0m\u001b[37m\u001b[0m \u001b[1m0s\u001b[0m 26ms/step\n",
      "\u001b[1m1/1\u001b[0m \u001b[32m━━━━━━━━━━━━━━━━━━━━\u001b[0m\u001b[37m\u001b[0m \u001b[1m0s\u001b[0m 28ms/step\n",
      "\u001b[1m1/1\u001b[0m \u001b[32m━━━━━━━━━━━━━━━━━━━━\u001b[0m\u001b[37m\u001b[0m \u001b[1m0s\u001b[0m 26ms/step\n",
      "\u001b[1m1/1\u001b[0m \u001b[32m━━━━━━━━━━━━━━━━━━━━\u001b[0m\u001b[37m\u001b[0m \u001b[1m0s\u001b[0m 26ms/step\n",
      "\u001b[1m1/1\u001b[0m \u001b[32m━━━━━━━━━━━━━━━━━━━━\u001b[0m\u001b[37m\u001b[0m \u001b[1m0s\u001b[0m 26ms/step\n",
      "\u001b[1m1/1\u001b[0m \u001b[32m━━━━━━━━━━━━━━━━━━━━\u001b[0m\u001b[37m\u001b[0m \u001b[1m0s\u001b[0m 26ms/step\n",
      "\u001b[1m1/1\u001b[0m \u001b[32m━━━━━━━━━━━━━━━━━━━━\u001b[0m\u001b[37m\u001b[0m \u001b[1m0s\u001b[0m 28ms/step\n",
      "\u001b[1m1/1\u001b[0m \u001b[32m━━━━━━━━━━━━━━━━━━━━\u001b[0m\u001b[37m\u001b[0m \u001b[1m0s\u001b[0m 27ms/step\n",
      "\u001b[1m1/1\u001b[0m \u001b[32m━━━━━━━━━━━━━━━━━━━━\u001b[0m\u001b[37m\u001b[0m \u001b[1m0s\u001b[0m 26ms/step\n",
      "\u001b[1m1/1\u001b[0m \u001b[32m━━━━━━━━━━━━━━━━━━━━\u001b[0m\u001b[37m\u001b[0m \u001b[1m0s\u001b[0m 26ms/step\n",
      "\u001b[1m1/1\u001b[0m \u001b[32m━━━━━━━━━━━━━━━━━━━━\u001b[0m\u001b[37m\u001b[0m \u001b[1m0s\u001b[0m 26ms/step\n",
      "\u001b[1m1/1\u001b[0m \u001b[32m━━━━━━━━━━━━━━━━━━━━\u001b[0m\u001b[37m\u001b[0m \u001b[1m0s\u001b[0m 26ms/step\n",
      "\u001b[1m1/1\u001b[0m \u001b[32m━━━━━━━━━━━━━━━━━━━━\u001b[0m\u001b[37m\u001b[0m \u001b[1m0s\u001b[0m 26ms/step\n",
      "\u001b[1m1/1\u001b[0m \u001b[32m━━━━━━━━━━━━━━━━━━━━\u001b[0m\u001b[37m\u001b[0m \u001b[1m0s\u001b[0m 25ms/step\n",
      "\u001b[1m1/1\u001b[0m \u001b[32m━━━━━━━━━━━━━━━━━━━━\u001b[0m\u001b[37m\u001b[0m \u001b[1m0s\u001b[0m 26ms/step\n",
      "\u001b[1m1/1\u001b[0m \u001b[32m━━━━━━━━━━━━━━━━━━━━\u001b[0m\u001b[37m\u001b[0m \u001b[1m0s\u001b[0m 26ms/step\n",
      "\u001b[1m1/1\u001b[0m \u001b[32m━━━━━━━━━━━━━━━━━━━━\u001b[0m\u001b[37m\u001b[0m \u001b[1m0s\u001b[0m 22ms/step\n",
      "\u001b[1m1/1\u001b[0m \u001b[32m━━━━━━━━━━━━━━━━━━━━\u001b[0m\u001b[37m\u001b[0m \u001b[1m0s\u001b[0m 25ms/step\n",
      "\u001b[1m1/1\u001b[0m \u001b[32m━━━━━━━━━━━━━━━━━━━━\u001b[0m\u001b[37m\u001b[0m \u001b[1m0s\u001b[0m 27ms/step\n",
      "\u001b[1m1/1\u001b[0m \u001b[32m━━━━━━━━━━━━━━━━━━━━\u001b[0m\u001b[37m\u001b[0m \u001b[1m0s\u001b[0m 27ms/step\n",
      "\u001b[1m1/1\u001b[0m \u001b[32m━━━━━━━━━━━━━━━━━━━━\u001b[0m\u001b[37m\u001b[0m \u001b[1m0s\u001b[0m 27ms/step\n",
      "\u001b[1m1/1\u001b[0m \u001b[32m━━━━━━━━━━━━━━━━━━━━\u001b[0m\u001b[37m\u001b[0m \u001b[1m0s\u001b[0m 30ms/step\n",
      "\u001b[1m1/1\u001b[0m \u001b[32m━━━━━━━━━━━━━━━━━━━━\u001b[0m\u001b[37m\u001b[0m \u001b[1m0s\u001b[0m 24ms/step\n",
      "\u001b[1m1/1\u001b[0m \u001b[32m━━━━━━━━━━━━━━━━━━━━\u001b[0m\u001b[37m\u001b[0m \u001b[1m0s\u001b[0m 29ms/step\n",
      "\u001b[1m1/1\u001b[0m \u001b[32m━━━━━━━━━━━━━━━━━━━━\u001b[0m\u001b[37m\u001b[0m \u001b[1m0s\u001b[0m 26ms/step\n",
      "\u001b[1m1/1\u001b[0m \u001b[32m━━━━━━━━━━━━━━━━━━━━\u001b[0m\u001b[37m\u001b[0m \u001b[1m0s\u001b[0m 29ms/step\n",
      "\u001b[1m1/1\u001b[0m \u001b[32m━━━━━━━━━━━━━━━━━━━━\u001b[0m\u001b[37m\u001b[0m \u001b[1m0s\u001b[0m 38ms/step\n",
      "\u001b[1m1/1\u001b[0m \u001b[32m━━━━━━━━━━━━━━━━━━━━\u001b[0m\u001b[37m\u001b[0m \u001b[1m0s\u001b[0m 26ms/step\n",
      "\u001b[1m1/1\u001b[0m \u001b[32m━━━━━━━━━━━━━━━━━━━━\u001b[0m\u001b[37m\u001b[0m \u001b[1m0s\u001b[0m 26ms/step\n",
      "\u001b[1m1/1\u001b[0m \u001b[32m━━━━━━━━━━━━━━━━━━━━\u001b[0m\u001b[37m\u001b[0m \u001b[1m0s\u001b[0m 31ms/step\n",
      "\u001b[1m1/1\u001b[0m \u001b[32m━━━━━━━━━━━━━━━━━━━━\u001b[0m\u001b[37m\u001b[0m \u001b[1m0s\u001b[0m 29ms/step\n",
      "\u001b[1m1/1\u001b[0m \u001b[32m━━━━━━━━━━━━━━━━━━━━\u001b[0m\u001b[37m\u001b[0m \u001b[1m0s\u001b[0m 29ms/step\n",
      "\u001b[1m1/1\u001b[0m \u001b[32m━━━━━━━━━━━━━━━━━━━━\u001b[0m\u001b[37m\u001b[0m \u001b[1m0s\u001b[0m 27ms/step\n",
      "\u001b[1m1/1\u001b[0m \u001b[32m━━━━━━━━━━━━━━━━━━━━\u001b[0m\u001b[37m\u001b[0m \u001b[1m0s\u001b[0m 26ms/step\n",
      "\u001b[1m1/1\u001b[0m \u001b[32m━━━━━━━━━━━━━━━━━━━━\u001b[0m\u001b[37m\u001b[0m \u001b[1m0s\u001b[0m 29ms/step\n",
      "\u001b[1m1/1\u001b[0m \u001b[32m━━━━━━━━━━━━━━━━━━━━\u001b[0m\u001b[37m\u001b[0m \u001b[1m0s\u001b[0m 26ms/step\n",
      "\u001b[1m1/1\u001b[0m \u001b[32m━━━━━━━━━━━━━━━━━━━━\u001b[0m\u001b[37m\u001b[0m \u001b[1m0s\u001b[0m 26ms/step\n",
      "\u001b[1m1/1\u001b[0m \u001b[32m━━━━━━━━━━━━━━━━━━━━\u001b[0m\u001b[37m\u001b[0m \u001b[1m0s\u001b[0m 26ms/step\n",
      "\u001b[1m1/1\u001b[0m \u001b[32m━━━━━━━━━━━━━━━━━━━━\u001b[0m\u001b[37m\u001b[0m \u001b[1m0s\u001b[0m 27ms/step\n",
      "\u001b[1m1/1\u001b[0m \u001b[32m━━━━━━━━━━━━━━━━━━━━\u001b[0m\u001b[37m\u001b[0m \u001b[1m0s\u001b[0m 51ms/step\n",
      "\u001b[1m1/1\u001b[0m \u001b[32m━━━━━━━━━━━━━━━━━━━━\u001b[0m\u001b[37m\u001b[0m \u001b[1m0s\u001b[0m 39ms/step\n",
      "\u001b[1m1/1\u001b[0m \u001b[32m━━━━━━━━━━━━━━━━━━━━\u001b[0m\u001b[37m\u001b[0m \u001b[1m0s\u001b[0m 28ms/step\n",
      "\u001b[1m1/1\u001b[0m \u001b[32m━━━━━━━━━━━━━━━━━━━━\u001b[0m\u001b[37m\u001b[0m \u001b[1m0s\u001b[0m 28ms/step\n",
      "\u001b[1m1/1\u001b[0m \u001b[32m━━━━━━━━━━━━━━━━━━━━\u001b[0m\u001b[37m\u001b[0m \u001b[1m0s\u001b[0m 27ms/step\n",
      "\u001b[1m1/1\u001b[0m \u001b[32m━━━━━━━━━━━━━━━━━━━━\u001b[0m\u001b[37m\u001b[0m \u001b[1m0s\u001b[0m 27ms/step\n",
      "\u001b[1m1/1\u001b[0m \u001b[32m━━━━━━━━━━━━━━━━━━━━\u001b[0m\u001b[37m\u001b[0m \u001b[1m0s\u001b[0m 27ms/step\n",
      "\u001b[1m1/1\u001b[0m \u001b[32m━━━━━━━━━━━━━━━━━━━━\u001b[0m\u001b[37m\u001b[0m \u001b[1m0s\u001b[0m 26ms/step\n",
      "\u001b[1m1/1\u001b[0m \u001b[32m━━━━━━━━━━━━━━━━━━━━\u001b[0m\u001b[37m\u001b[0m \u001b[1m0s\u001b[0m 26ms/step\n",
      "\u001b[1m1/1\u001b[0m \u001b[32m━━━━━━━━━━━━━━━━━━━━\u001b[0m\u001b[37m\u001b[0m \u001b[1m0s\u001b[0m 24ms/step\n",
      "\u001b[1m1/1\u001b[0m \u001b[32m━━━━━━━━━━━━━━━━━━━━\u001b[0m\u001b[37m\u001b[0m \u001b[1m0s\u001b[0m 27ms/step\n",
      "\u001b[1m1/1\u001b[0m \u001b[32m━━━━━━━━━━━━━━━━━━━━\u001b[0m\u001b[37m\u001b[0m \u001b[1m0s\u001b[0m 25ms/step\n",
      "\u001b[1m1/1\u001b[0m \u001b[32m━━━━━━━━━━━━━━━━━━━━\u001b[0m\u001b[37m\u001b[0m \u001b[1m0s\u001b[0m 25ms/step\n"
     ]
    }
   ],
   "source": [
    "# Loop through batches until you reach the desired number of images\n",
    "for batch_images, batch_labels in train_generator:\n",
    "    # Loop through each image in the current batch\n",
    "    for i in range(len(batch_images)):\n",
    "        if current_count >= num_images_to_predict:\n",
    "            break  # Stop if you've reached the desired number of images\n",
    "        \n",
    "        # Get the current image and expand dimensions for prediction\n",
    "        image = np.expand_dims(batch_images[i], axis=0)\n",
    "        \n",
    "        # Predict the class (Cancerous or Non-Cancerous)\n",
    "        prediction = model.predict(image)\n",
    "        \n",
    "        # Assuming binary classification (0 = Cancerous, 1 = Non-Cancerous)\n",
    "        if prediction[0][0] < 0.5:\n",
    "            predicted_labels.append(\"Non-Cancerous\")\n",
    "        else:\n",
    "            predicted_labels.append(\"Cancerous\")\n",
    "        \n",
    "        # Store the actual label and filename for reference\n",
    "        actual_labels.append(\"Cancerous\" if np.argmax(batch_labels[i]) == 0 else \"Non-Cancerous\")\n",
    "        filenames.append(train_generator.filenames[train_generator.batch_index * train_generator.batch_size + i])\n",
    "        \n",
    "        current_count += 1\n",
    "\n",
    "    if current_count >= num_images_to_predict:\n",
    "        break  # Stop once you've predicted 100 images"
   ]
  },
  {
   "cell_type": "code",
   "execution_count": 42,
   "id": "1866e128-926c-464b-a04b-8f0403cd78b5",
   "metadata": {},
   "outputs": [
    {
     "name": "stdout",
     "output_type": "stream",
     "text": [
      "Image: Cancer_detection/Tumor- (1034).jpg, Predicted: Non-Cancerous, Actual: Non-Cancerous\n",
      "Image: Cancer_detection/Tumor- (1035).jpg, Predicted: Cancerous, Actual: Cancerous\n",
      "Image: Cancer_detection/Tumor- (1036).jpg, Predicted: Cancerous, Actual: Cancerous\n",
      "Image: Cancer_detection/Tumor- (1038).jpg, Predicted: Non-Cancerous, Actual: Non-Cancerous\n",
      "Image: Cancer_detection/Tumor- (1039).jpg, Predicted: Cancerous, Actual: Cancerous\n",
      "Image: Cancer_detection/Tumor- (104).jpg, Predicted: Cancerous, Actual: Cancerous\n",
      "Image: Cancer_detection/Tumor- (1040).jpg, Predicted: Non-Cancerous, Actual: Non-Cancerous\n",
      "Image: Cancer_detection/Tumor- (1041).jpg, Predicted: Non-Cancerous, Actual: Non-Cancerous\n",
      "Image: Cancer_detection/Tumor- (1043).jpg, Predicted: Cancerous, Actual: Cancerous\n",
      "Image: Cancer_detection/Tumor- (1044).jpg, Predicted: Non-Cancerous, Actual: Non-Cancerous\n",
      "Image: Cancer_detection/Tumor- (1045).jpg, Predicted: Cancerous, Actual: Cancerous\n",
      "Image: Cancer_detection/Tumor- (1046).jpg, Predicted: Cancerous, Actual: Cancerous\n",
      "Image: Cancer_detection/Tumor- (1047).jpg, Predicted: Non-Cancerous, Actual: Non-Cancerous\n",
      "Image: Cancer_detection/Tumor- (1048).jpg, Predicted: Cancerous, Actual: Cancerous\n",
      "Image: Cancer_detection/Tumor- (1050).jpg, Predicted: Cancerous, Actual: Cancerous\n",
      "Image: Cancer_detection/Tumor- (1051).jpg, Predicted: Cancerous, Actual: Cancerous\n",
      "Image: Cancer_detection/Tumor- (1052).jpg, Predicted: Cancerous, Actual: Cancerous\n",
      "Image: Cancer_detection/Tumor- (1053).jpg, Predicted: Non-Cancerous, Actual: Non-Cancerous\n",
      "Image: Cancer_detection/Tumor- (1054).jpg, Predicted: Non-Cancerous, Actual: Non-Cancerous\n",
      "Image: Cancer_detection/Tumor- (1055).jpg, Predicted: Cancerous, Actual: Cancerous\n",
      "Image: Cancer_detection/Tumor- (1056).jpg, Predicted: Non-Cancerous, Actual: Non-Cancerous\n",
      "Image: Cancer_detection/Tumor- (1057).jpg, Predicted: Non-Cancerous, Actual: Non-Cancerous\n",
      "Image: Cancer_detection/Tumor- (1058).jpg, Predicted: Cancerous, Actual: Cancerous\n",
      "Image: Cancer_detection/Tumor- (1059).jpg, Predicted: Cancerous, Actual: Cancerous\n",
      "Image: Cancer_detection/Tumor- (106).jpg, Predicted: Non-Cancerous, Actual: Non-Cancerous\n",
      "Image: Cancer_detection/Tumor- (1060).jpg, Predicted: Cancerous, Actual: Cancerous\n",
      "Image: Cancer_detection/Tumor- (1061).jpg, Predicted: Cancerous, Actual: Cancerous\n",
      "Image: Cancer_detection/Tumor- (1062).jpg, Predicted: Non-Cancerous, Actual: Non-Cancerous\n",
      "Image: Cancer_detection/Tumor- (1063).jpg, Predicted: Non-Cancerous, Actual: Non-Cancerous\n",
      "Image: Cancer_detection/Tumor- (1064).jpg, Predicted: Cancerous, Actual: Cancerous\n",
      "Image: Cancer_detection/Tumor- (1065).jpg, Predicted: Non-Cancerous, Actual: Non-Cancerous\n",
      "Image: Cancer_detection/Tumor- (1066).jpg, Predicted: Cancerous, Actual: Cancerous\n",
      "Image: Cancer_detection/Tumor- (1067).jpg, Predicted: Cancerous, Actual: Cancerous\n",
      "Image: Cancer_detection/Tumor- (1068).jpg, Predicted: Cancerous, Actual: Cancerous\n",
      "Image: Cancer_detection/Tumor- (1069).jpg, Predicted: Non-Cancerous, Actual: Non-Cancerous\n",
      "Image: Cancer_detection/Tumor- (107).jpg, Predicted: Cancerous, Actual: Cancerous\n",
      "Image: Cancer_detection/Tumor- (1070).jpg, Predicted: Cancerous, Actual: Cancerous\n",
      "Image: Cancer_detection/Tumor- (1072).jpg, Predicted: Non-Cancerous, Actual: Non-Cancerous\n",
      "Image: Cancer_detection/Tumor- (1073).jpg, Predicted: Cancerous, Actual: Cancerous\n",
      "Image: Cancer_detection/Tumor- (1074).jpg, Predicted: Cancerous, Actual: Cancerous\n",
      "Image: Cancer_detection/Tumor- (1075).jpg, Predicted: Cancerous, Actual: Cancerous\n",
      "Image: Cancer_detection/Tumor- (1077).jpg, Predicted: Cancerous, Actual: Cancerous\n",
      "Image: Cancer_detection/Tumor- (1078).jpg, Predicted: Non-Cancerous, Actual: Non-Cancerous\n",
      "Image: Cancer_detection/Tumor- (1079).jpg, Predicted: Non-Cancerous, Actual: Non-Cancerous\n",
      "Image: Cancer_detection/Tumor- (108).jpg, Predicted: Cancerous, Actual: Cancerous\n",
      "Image: Cancer_detection/Tumor- (1080).jpg, Predicted: Non-Cancerous, Actual: Non-Cancerous\n",
      "Image: Cancer_detection/Tumor- (1082).jpg, Predicted: Non-Cancerous, Actual: Non-Cancerous\n",
      "Image: Cancer_detection/Tumor- (1084).jpg, Predicted: Cancerous, Actual: Cancerous\n",
      "Image: Cancer_detection/Tumor- (1085).jpg, Predicted: Cancerous, Actual: Cancerous\n",
      "Image: Cancer_detection/Tumor- (1088).jpg, Predicted: Non-Cancerous, Actual: Non-Cancerous\n",
      "Image: Cancer_detection/Tumor- (1089).jpg, Predicted: Non-Cancerous, Actual: Non-Cancerous\n",
      "Image: Cancer_detection/Tumor- (1090).jpg, Predicted: Cancerous, Actual: Cancerous\n",
      "Image: Cancer_detection/Tumor- (1091).jpg, Predicted: Non-Cancerous, Actual: Non-Cancerous\n",
      "Image: Cancer_detection/Tumor- (1093).jpg, Predicted: Non-Cancerous, Actual: Non-Cancerous\n",
      "Image: Cancer_detection/Tumor- (1094).jpg, Predicted: Non-Cancerous, Actual: Non-Cancerous\n",
      "Image: Cancer_detection/Tumor- (1095).jpg, Predicted: Cancerous, Actual: Cancerous\n",
      "Image: Cancer_detection/Tumor- (1096).jpg, Predicted: Cancerous, Actual: Cancerous\n",
      "Image: Cancer_detection/Tumor- (1097).jpg, Predicted: Cancerous, Actual: Cancerous\n",
      "Image: Cancer_detection/Tumor- (1099).jpg, Predicted: Non-Cancerous, Actual: Non-Cancerous\n",
      "Image: Cancer_detection/Tumor- (1101).jpg, Predicted: Cancerous, Actual: Cancerous\n",
      "Image: Cancer_detection/Tumor- (1103).jpg, Predicted: Non-Cancerous, Actual: Non-Cancerous\n",
      "Image: Cancer_detection/Tumor- (1105).jpg, Predicted: Cancerous, Actual: Cancerous\n",
      "Image: Normal/Normal- (1125).jpg, Predicted: Cancerous, Actual: Cancerous\n",
      "Image: Normal/Normal- (1126).jpg, Predicted: Non-Cancerous, Actual: Non-Cancerous\n",
      "Image: Normal/Normal- (1128).jpg, Predicted: Non-Cancerous, Actual: Non-Cancerous\n",
      "Image: Normal/Normal- (1129).jpg, Predicted: Cancerous, Actual: Cancerous\n",
      "Image: Normal/Normal- (113).jpg, Predicted: Cancerous, Actual: Cancerous\n",
      "Image: Normal/Normal- (1130).jpg, Predicted: Cancerous, Actual: Cancerous\n",
      "Image: Normal/Normal- (1132).jpg, Predicted: Non-Cancerous, Actual: Non-Cancerous\n",
      "Image: Normal/Normal- (1133).jpg, Predicted: Cancerous, Actual: Cancerous\n",
      "Image: Normal/Normal- (114).jpg, Predicted: Cancerous, Actual: Cancerous\n",
      "Image: Normal/Normal- (1149).jpg, Predicted: Cancerous, Actual: Cancerous\n",
      "Image: Normal/Normal- (115).jpg, Predicted: Cancerous, Actual: Cancerous\n",
      "Image: Normal/Normal- (1150).jpg, Predicted: Cancerous, Actual: Cancerous\n",
      "Image: Normal/Normal- (1151).jpg, Predicted: Cancerous, Actual: Cancerous\n",
      "Image: Normal/Normal- (1152).jpg, Predicted: Non-Cancerous, Actual: Non-Cancerous\n",
      "Image: Normal/Normal- (1153).jpg, Predicted: Non-Cancerous, Actual: Non-Cancerous\n",
      "Image: Normal/Normal- (1154).jpg, Predicted: Non-Cancerous, Actual: Non-Cancerous\n",
      "Image: Normal/Normal- (1155).jpg, Predicted: Cancerous, Actual: Cancerous\n",
      "Image: Normal/Normal- (1157).jpg, Predicted: Cancerous, Actual: Cancerous\n",
      "Image: Normal/Normal- (1158).jpg, Predicted: Non-Cancerous, Actual: Non-Cancerous\n",
      "Image: Normal/Normal- (116).jpg, Predicted: Cancerous, Actual: Cancerous\n",
      "Image: Normal/Normal- (1160).jpg, Predicted: Non-Cancerous, Actual: Non-Cancerous\n",
      "Image: Normal/Normal- (1161).jpg, Predicted: Cancerous, Actual: Cancerous\n",
      "Image: Normal/Normal- (1162).jpg, Predicted: Cancerous, Actual: Cancerous\n",
      "Image: Normal/Normal- (1163).jpg, Predicted: Non-Cancerous, Actual: Non-Cancerous\n",
      "Image: Normal/Normal- (1165).jpg, Predicted: Non-Cancerous, Actual: Non-Cancerous\n",
      "Image: Normal/Normal- (1166).jpg, Predicted: Cancerous, Actual: Cancerous\n",
      "Image: Normal/Normal- (1167).jpg, Predicted: Non-Cancerous, Actual: Non-Cancerous\n",
      "Image: Normal/Normal- (1168).jpg, Predicted: Cancerous, Actual: Cancerous\n",
      "Image: Normal/Normal- (117).jpg, Predicted: Cancerous, Actual: Cancerous\n",
      "Image: Normal/Normal- (1170).jpg, Predicted: Cancerous, Actual: Cancerous\n",
      "Image: Normal/Normal- (1171).jpg, Predicted: Non-Cancerous, Actual: Non-Cancerous\n",
      "Image: Normal/Normal- (1173).jpg, Predicted: Non-Cancerous, Actual: Non-Cancerous\n",
      "Image: Normal/Normal- (1174).jpg, Predicted: Non-Cancerous, Actual: Non-Cancerous\n",
      "Image: Normal/Normal- (1175).jpg, Predicted: Non-Cancerous, Actual: Non-Cancerous\n",
      "Image: Normal/Normal- (1176).jpg, Predicted: Non-Cancerous, Actual: Non-Cancerous\n",
      "Image: Normal/Normal- (1178).jpg, Predicted: Non-Cancerous, Actual: Non-Cancerous\n",
      "Image: Normal/Normal- (1179).jpg, Predicted: Non-Cancerous, Actual: Non-Cancerous\n",
      "Image: Normal/Normal- (118).jpg, Predicted: Cancerous, Actual: Cancerous\n"
     ]
    }
   ],
   "source": [
    "# Display the predictions\n",
    "for idx in range(num_images_to_predict):\n",
    "    print(f\"Image: {filenames[idx]}, Predicted: {predicted_labels[idx]}, Actual: {actual_labels[idx]}\")"
   ]
  },
  {
   "cell_type": "code",
   "execution_count": 43,
   "id": "c2e23386-1765-4e20-8364-920674275715",
   "metadata": {},
   "outputs": [],
   "source": [
    "#history = model.fit(train_generator, steps_per_epoch = train_generator.samples //train_generator.batch_size, epochs=10)    "
   ]
  },
  {
   "cell_type": "code",
   "execution_count": 44,
   "id": "71ca0d0a-75ce-44a1-9e82-872f55e9086c",
   "metadata": {},
   "outputs": [
    {
     "name": "stdout",
     "output_type": "stream",
     "text": [
      "mean accuracy over all epochs: 0.92285714\n"
     ]
    }
   ],
   "source": [
    "accuracy_values=history.history['accuracy']\n",
    "\n",
    "mean_accuracy=np.mean(accuracy_values)\n",
    "\n",
    "print(f\"mean accuracy over all epochs: {mean_accuracy:.8f}\")"
   ]
  },
  {
   "cell_type": "code",
   "execution_count": 52,
   "id": "64e034c1-2ef7-49dc-9c8c-b9a93805e6b8",
   "metadata": {},
   "outputs": [
    {
     "name": "stdout",
     "output_type": "stream",
     "text": [
      "\u001b[1m1/1\u001b[0m \u001b[32m━━━━━━━━━━━━━━━━━━━━\u001b[0m\u001b[37m\u001b[0m \u001b[1m0s\u001b[0m 28ms/step\n"
     ]
    },
    {
     "ename": "TypeError",
     "evalue": "missing a required argument: 'y_pred'",
     "output_type": "error",
     "traceback": [
      "\u001b[0;31m---------------------------------------------------------------------------\u001b[0m",
      "\u001b[0;31mTypeError\u001b[0m                                 Traceback (most recent call last)",
      "Cell \u001b[0;32mIn[52], line 2\u001b[0m\n\u001b[1;32m      1\u001b[0m y_pred\u001b[38;5;241m=\u001b[39mmodel\u001b[38;5;241m.\u001b[39mpredict(image)\n\u001b[0;32m----> 2\u001b[0m \u001b[38;5;28mprint\u001b[39m(\u001b[38;5;124m\"\u001b[39m\u001b[38;5;124mAccuracy: \u001b[39m\u001b[38;5;132;01m{}\u001b[39;00m\u001b[38;5;124m\"\u001b[39m\u001b[38;5;241m.\u001b[39mformat(accuracy_score(np\u001b[38;5;241m.\u001b[39margmax(y_pred, axis\u001b[38;5;241m=\u001b[39m\u001b[38;5;241m1\u001b[39m))))\n\u001b[1;32m      3\u001b[0m plt\u001b[38;5;241m.\u001b[39mfigure(figsize\u001b[38;5;241m=\u001b[39m(\u001b[38;5;241m9\u001b[39m,\u001b[38;5;241m9\u001b[39m))\n\u001b[1;32m      4\u001b[0m _\u001b[38;5;241m=\u001b[39mplotting\u001b[38;5;241m.\u001b[39mmakeRoc(y_test, y_keras, le\u001b[38;5;241m.\u001b[39mclasses_)\n",
      "File \u001b[0;32m~/anaconda3/lib/python3.12/site-packages/sklearn/utils/_param_validation.py:191\u001b[0m, in \u001b[0;36mvalidate_params.<locals>.decorator.<locals>.wrapper\u001b[0;34m(*args, **kwargs)\u001b[0m\n\u001b[1;32m    188\u001b[0m func_sig \u001b[38;5;241m=\u001b[39m signature(func)\n\u001b[1;32m    190\u001b[0m \u001b[38;5;66;03m# Map *args/**kwargs to the function signature\u001b[39;00m\n\u001b[0;32m--> 191\u001b[0m params \u001b[38;5;241m=\u001b[39m func_sig\u001b[38;5;241m.\u001b[39mbind(\u001b[38;5;241m*\u001b[39margs, \u001b[38;5;241m*\u001b[39m\u001b[38;5;241m*\u001b[39mkwargs)\n\u001b[1;32m    192\u001b[0m params\u001b[38;5;241m.\u001b[39mapply_defaults()\n\u001b[1;32m    194\u001b[0m \u001b[38;5;66;03m# ignore self/cls and positional/keyword markers\u001b[39;00m\n",
      "File \u001b[0;32m~/anaconda3/lib/python3.12/inspect.py:3267\u001b[0m, in \u001b[0;36mSignature.bind\u001b[0;34m(self, *args, **kwargs)\u001b[0m\n\u001b[1;32m   3262\u001b[0m \u001b[38;5;28;01mdef\u001b[39;00m \u001b[38;5;21mbind\u001b[39m(\u001b[38;5;28mself\u001b[39m, \u001b[38;5;241m/\u001b[39m, \u001b[38;5;241m*\u001b[39margs, \u001b[38;5;241m*\u001b[39m\u001b[38;5;241m*\u001b[39mkwargs):\n\u001b[1;32m   3263\u001b[0m \u001b[38;5;250m    \u001b[39m\u001b[38;5;124;03m\"\"\"Get a BoundArguments object, that maps the passed `args`\u001b[39;00m\n\u001b[1;32m   3264\u001b[0m \u001b[38;5;124;03m    and `kwargs` to the function's signature.  Raises `TypeError`\u001b[39;00m\n\u001b[1;32m   3265\u001b[0m \u001b[38;5;124;03m    if the passed arguments can not be bound.\u001b[39;00m\n\u001b[1;32m   3266\u001b[0m \u001b[38;5;124;03m    \"\"\"\u001b[39;00m\n\u001b[0;32m-> 3267\u001b[0m     \u001b[38;5;28;01mreturn\u001b[39;00m \u001b[38;5;28mself\u001b[39m\u001b[38;5;241m.\u001b[39m_bind(args, kwargs)\n",
      "File \u001b[0;32m~/anaconda3/lib/python3.12/inspect.py:3180\u001b[0m, in \u001b[0;36mSignature._bind\u001b[0;34m(self, args, kwargs, partial)\u001b[0m\n\u001b[1;32m   3178\u001b[0m                 msg \u001b[38;5;241m=\u001b[39m \u001b[38;5;124m'\u001b[39m\u001b[38;5;124mmissing a required\u001b[39m\u001b[38;5;132;01m{argtype}\u001b[39;00m\u001b[38;5;124m argument: \u001b[39m\u001b[38;5;132;01m{arg!r}\u001b[39;00m\u001b[38;5;124m'\u001b[39m\n\u001b[1;32m   3179\u001b[0m                 msg \u001b[38;5;241m=\u001b[39m msg\u001b[38;5;241m.\u001b[39mformat(arg\u001b[38;5;241m=\u001b[39mparam\u001b[38;5;241m.\u001b[39mname, argtype\u001b[38;5;241m=\u001b[39margtype)\n\u001b[0;32m-> 3180\u001b[0m                 \u001b[38;5;28;01mraise\u001b[39;00m \u001b[38;5;167;01mTypeError\u001b[39;00m(msg) \u001b[38;5;28;01mfrom\u001b[39;00m \u001b[38;5;28;01mNone\u001b[39;00m\n\u001b[1;32m   3181\u001b[0m \u001b[38;5;28;01melse\u001b[39;00m:\n\u001b[1;32m   3182\u001b[0m     \u001b[38;5;66;03m# We have a positional argument to process\u001b[39;00m\n\u001b[1;32m   3183\u001b[0m     \u001b[38;5;28;01mtry\u001b[39;00m:\n",
      "\u001b[0;31mTypeError\u001b[0m: missing a required argument: 'y_pred'"
     ]
    }
   ],
   "source": [
    "#y_keras=model.predict(image)\n",
    "#print(\"Accuracy: {}\".format(accuracy_score(np.argmax(y_keras, axis=1))))\n",
    "#plt.figure(figsize=(9,9))\n",
    "#_=plotting.makeRoc(y_test, y_keras, le.classes_)"
   ]
  },
  {
   "cell_type": "code",
   "execution_count": 53,
   "id": "84ccc302-7bab-46bc-9685-302b9dae2575",
   "metadata": {},
   "outputs": [
    {
     "ename": "FileNotFoundError",
     "evalue": "[Errno 2] No such file or directory: 'keras-config-yml'",
     "output_type": "error",
     "traceback": [
      "\u001b[0;31m---------------------------------------------------------------------------\u001b[0m",
      "\u001b[0;31mFileNotFoundError\u001b[0m                         Traceback (most recent call last)",
      "Cell \u001b[0;32mIn[53], line 1\u001b[0m\n\u001b[0;32m----> 1\u001b[0m \u001b[38;5;28;01mwith\u001b[39;00m \u001b[38;5;28mopen\u001b[39m(\u001b[38;5;124m\"\u001b[39m\u001b[38;5;124mkeras-config-yml\u001b[39m\u001b[38;5;124m\"\u001b[39m, \u001b[38;5;124m'\u001b[39m\u001b[38;5;124mr\u001b[39m\u001b[38;5;124m'\u001b[39m) \u001b[38;5;28;01mas\u001b[39;00m ymlfile:\n\u001b[1;32m      2\u001b[0m     config \u001b[38;5;241m=\u001b[39m yaml\u001b[38;5;241m.\u001b[39mload(ymlfile, Loader\u001b[38;5;241m=\u001b[39myaml\u001b[38;5;241m.\u001b[39mFullLoader)\n",
      "File \u001b[0;32m~/anaconda3/lib/python3.12/site-packages/IPython/core/interactiveshell.py:324\u001b[0m, in \u001b[0;36m_modified_open\u001b[0;34m(file, *args, **kwargs)\u001b[0m\n\u001b[1;32m    317\u001b[0m \u001b[38;5;28;01mif\u001b[39;00m file \u001b[38;5;129;01min\u001b[39;00m {\u001b[38;5;241m0\u001b[39m, \u001b[38;5;241m1\u001b[39m, \u001b[38;5;241m2\u001b[39m}:\n\u001b[1;32m    318\u001b[0m     \u001b[38;5;28;01mraise\u001b[39;00m \u001b[38;5;167;01mValueError\u001b[39;00m(\n\u001b[1;32m    319\u001b[0m         \u001b[38;5;124mf\u001b[39m\u001b[38;5;124m\"\u001b[39m\u001b[38;5;124mIPython won\u001b[39m\u001b[38;5;124m'\u001b[39m\u001b[38;5;124mt let you open fd=\u001b[39m\u001b[38;5;132;01m{\u001b[39;00mfile\u001b[38;5;132;01m}\u001b[39;00m\u001b[38;5;124m by default \u001b[39m\u001b[38;5;124m\"\u001b[39m\n\u001b[1;32m    320\u001b[0m         \u001b[38;5;124m\"\u001b[39m\u001b[38;5;124mas it is likely to crash IPython. If you know what you are doing, \u001b[39m\u001b[38;5;124m\"\u001b[39m\n\u001b[1;32m    321\u001b[0m         \u001b[38;5;124m\"\u001b[39m\u001b[38;5;124myou can use builtins\u001b[39m\u001b[38;5;124m'\u001b[39m\u001b[38;5;124m open.\u001b[39m\u001b[38;5;124m\"\u001b[39m\n\u001b[1;32m    322\u001b[0m     )\n\u001b[0;32m--> 324\u001b[0m \u001b[38;5;28;01mreturn\u001b[39;00m io_open(file, \u001b[38;5;241m*\u001b[39margs, \u001b[38;5;241m*\u001b[39m\u001b[38;5;241m*\u001b[39mkwargs)\n",
      "\u001b[0;31mFileNotFoundError\u001b[0m: [Errno 2] No such file or directory: 'keras-config-yml'"
     ]
    }
   ],
   "source": [
    "#with open(\"keras-config-yml\", 'r') as ymlfile:\n",
    "    #config = yaml.load(ymlfile, Loader=yaml.FullLoader)"
   ]
  },
  {
   "cell_type": "code",
   "execution_count": null,
   "id": "94bdebc8-9aec-44e8-8e55-e6da9c0fd06e",
   "metadata": {},
   "outputs": [],
   "source": []
  }
 ],
 "metadata": {
  "kernelspec": {
   "display_name": "Python 3 (ipykernel)",
   "language": "python",
   "name": "python3"
  },
  "language_info": {
   "codemirror_mode": {
    "name": "ipython",
    "version": 3
   },
   "file_extension": ".py",
   "mimetype": "text/x-python",
   "name": "python",
   "nbconvert_exporter": "python",
   "pygments_lexer": "ipython3",
   "version": "3.12.4"
  }
 },
 "nbformat": 4,
 "nbformat_minor": 5
}
